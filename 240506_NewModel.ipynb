{
  "cells": [
    {
      "cell_type": "markdown",
      "metadata": {
        "id": "view-in-github",
        "colab_type": "text"
      },
      "source": [
        "<a href=\"https://colab.research.google.com/github/bmwise14/NES_Salad/blob/main/240506_NewModel.ipynb\" target=\"_parent\"><img src=\"https://colab.research.google.com/assets/colab-badge.svg\" alt=\"Open In Colab\"/></a>"
      ]
    },
    {
      "cell_type": "code",
      "execution_count": 8,
      "metadata": {
        "id": "Loe0wgGRm6tq"
      },
      "outputs": [],
      "source": [
        "import numpy as np\n",
        "import torch\n",
        "import torch.nn as nn\n",
        "import torch.optim as optim\n",
        "from torch.utils.data import Dataset, DataLoader\n",
        "from torch.nn.utils.rnn import pad_sequence\n",
        "import pandas as pd\n",
        "\n",
        "from tokenizers import Tokenizer, AddedToken"
      ]
    },
    {
      "cell_type": "code",
      "execution_count": 5,
      "metadata": {
        "colab": {
          "base_uri": "https://localhost:8080/"
        },
        "id": "srqis7rooyW7",
        "outputId": "d0cce256-de61-4483-a83a-aa01ca7e7de4"
      },
      "outputs": [
        {
          "output_type": "execute_result",
          "data": {
            "text/plain": [
              "device(type='cuda')"
            ]
          },
          "metadata": {},
          "execution_count": 5
        }
      ],
      "source": [
        "device = torch.device(\"cuda\" if torch.cuda.is_available() else \"cpu\")\n",
        "device"
      ]
    },
    {
      "cell_type": "code",
      "execution_count": 11,
      "metadata": {
        "colab": {
          "base_uri": "https://localhost:8080/",
          "height": 74
        },
        "id": "qnB6ezyGr2Pg",
        "outputId": "deebbf2a-569d-4414-b7e8-8783e8d45786"
      },
      "outputs": [
        {
          "output_type": "display_data",
          "data": {
            "text/plain": [
              "<IPython.core.display.HTML object>"
            ],
            "text/html": [
              "\n",
              "     <input type=\"file\" id=\"files-77943fa3-ed5a-47b3-9975-3b544c369273\" name=\"files[]\" multiple disabled\n",
              "        style=\"border:none\" />\n",
              "     <output id=\"result-77943fa3-ed5a-47b3-9975-3b544c369273\">\n",
              "      Upload widget is only available when the cell has been executed in the\n",
              "      current browser session. Please rerun this cell to enable.\n",
              "      </output>\n",
              "      <script>// Copyright 2017 Google LLC\n",
              "//\n",
              "// Licensed under the Apache License, Version 2.0 (the \"License\");\n",
              "// you may not use this file except in compliance with the License.\n",
              "// You may obtain a copy of the License at\n",
              "//\n",
              "//      http://www.apache.org/licenses/LICENSE-2.0\n",
              "//\n",
              "// Unless required by applicable law or agreed to in writing, software\n",
              "// distributed under the License is distributed on an \"AS IS\" BASIS,\n",
              "// WITHOUT WARRANTIES OR CONDITIONS OF ANY KIND, either express or implied.\n",
              "// See the License for the specific language governing permissions and\n",
              "// limitations under the License.\n",
              "\n",
              "/**\n",
              " * @fileoverview Helpers for google.colab Python module.\n",
              " */\n",
              "(function(scope) {\n",
              "function span(text, styleAttributes = {}) {\n",
              "  const element = document.createElement('span');\n",
              "  element.textContent = text;\n",
              "  for (const key of Object.keys(styleAttributes)) {\n",
              "    element.style[key] = styleAttributes[key];\n",
              "  }\n",
              "  return element;\n",
              "}\n",
              "\n",
              "// Max number of bytes which will be uploaded at a time.\n",
              "const MAX_PAYLOAD_SIZE = 100 * 1024;\n",
              "\n",
              "function _uploadFiles(inputId, outputId) {\n",
              "  const steps = uploadFilesStep(inputId, outputId);\n",
              "  const outputElement = document.getElementById(outputId);\n",
              "  // Cache steps on the outputElement to make it available for the next call\n",
              "  // to uploadFilesContinue from Python.\n",
              "  outputElement.steps = steps;\n",
              "\n",
              "  return _uploadFilesContinue(outputId);\n",
              "}\n",
              "\n",
              "// This is roughly an async generator (not supported in the browser yet),\n",
              "// where there are multiple asynchronous steps and the Python side is going\n",
              "// to poll for completion of each step.\n",
              "// This uses a Promise to block the python side on completion of each step,\n",
              "// then passes the result of the previous step as the input to the next step.\n",
              "function _uploadFilesContinue(outputId) {\n",
              "  const outputElement = document.getElementById(outputId);\n",
              "  const steps = outputElement.steps;\n",
              "\n",
              "  const next = steps.next(outputElement.lastPromiseValue);\n",
              "  return Promise.resolve(next.value.promise).then((value) => {\n",
              "    // Cache the last promise value to make it available to the next\n",
              "    // step of the generator.\n",
              "    outputElement.lastPromiseValue = value;\n",
              "    return next.value.response;\n",
              "  });\n",
              "}\n",
              "\n",
              "/**\n",
              " * Generator function which is called between each async step of the upload\n",
              " * process.\n",
              " * @param {string} inputId Element ID of the input file picker element.\n",
              " * @param {string} outputId Element ID of the output display.\n",
              " * @return {!Iterable<!Object>} Iterable of next steps.\n",
              " */\n",
              "function* uploadFilesStep(inputId, outputId) {\n",
              "  const inputElement = document.getElementById(inputId);\n",
              "  inputElement.disabled = false;\n",
              "\n",
              "  const outputElement = document.getElementById(outputId);\n",
              "  outputElement.innerHTML = '';\n",
              "\n",
              "  const pickedPromise = new Promise((resolve) => {\n",
              "    inputElement.addEventListener('change', (e) => {\n",
              "      resolve(e.target.files);\n",
              "    });\n",
              "  });\n",
              "\n",
              "  const cancel = document.createElement('button');\n",
              "  inputElement.parentElement.appendChild(cancel);\n",
              "  cancel.textContent = 'Cancel upload';\n",
              "  const cancelPromise = new Promise((resolve) => {\n",
              "    cancel.onclick = () => {\n",
              "      resolve(null);\n",
              "    };\n",
              "  });\n",
              "\n",
              "  // Wait for the user to pick the files.\n",
              "  const files = yield {\n",
              "    promise: Promise.race([pickedPromise, cancelPromise]),\n",
              "    response: {\n",
              "      action: 'starting',\n",
              "    }\n",
              "  };\n",
              "\n",
              "  cancel.remove();\n",
              "\n",
              "  // Disable the input element since further picks are not allowed.\n",
              "  inputElement.disabled = true;\n",
              "\n",
              "  if (!files) {\n",
              "    return {\n",
              "      response: {\n",
              "        action: 'complete',\n",
              "      }\n",
              "    };\n",
              "  }\n",
              "\n",
              "  for (const file of files) {\n",
              "    const li = document.createElement('li');\n",
              "    li.append(span(file.name, {fontWeight: 'bold'}));\n",
              "    li.append(span(\n",
              "        `(${file.type || 'n/a'}) - ${file.size} bytes, ` +\n",
              "        `last modified: ${\n",
              "            file.lastModifiedDate ? file.lastModifiedDate.toLocaleDateString() :\n",
              "                                    'n/a'} - `));\n",
              "    const percent = span('0% done');\n",
              "    li.appendChild(percent);\n",
              "\n",
              "    outputElement.appendChild(li);\n",
              "\n",
              "    const fileDataPromise = new Promise((resolve) => {\n",
              "      const reader = new FileReader();\n",
              "      reader.onload = (e) => {\n",
              "        resolve(e.target.result);\n",
              "      };\n",
              "      reader.readAsArrayBuffer(file);\n",
              "    });\n",
              "    // Wait for the data to be ready.\n",
              "    let fileData = yield {\n",
              "      promise: fileDataPromise,\n",
              "      response: {\n",
              "        action: 'continue',\n",
              "      }\n",
              "    };\n",
              "\n",
              "    // Use a chunked sending to avoid message size limits. See b/62115660.\n",
              "    let position = 0;\n",
              "    do {\n",
              "      const length = Math.min(fileData.byteLength - position, MAX_PAYLOAD_SIZE);\n",
              "      const chunk = new Uint8Array(fileData, position, length);\n",
              "      position += length;\n",
              "\n",
              "      const base64 = btoa(String.fromCharCode.apply(null, chunk));\n",
              "      yield {\n",
              "        response: {\n",
              "          action: 'append',\n",
              "          file: file.name,\n",
              "          data: base64,\n",
              "        },\n",
              "      };\n",
              "\n",
              "      let percentDone = fileData.byteLength === 0 ?\n",
              "          100 :\n",
              "          Math.round((position / fileData.byteLength) * 100);\n",
              "      percent.textContent = `${percentDone}% done`;\n",
              "\n",
              "    } while (position < fileData.byteLength);\n",
              "  }\n",
              "\n",
              "  // All done.\n",
              "  yield {\n",
              "    response: {\n",
              "      action: 'complete',\n",
              "    }\n",
              "  };\n",
              "}\n",
              "\n",
              "scope.google = scope.google || {};\n",
              "scope.google.colab = scope.google.colab || {};\n",
              "scope.google.colab._files = {\n",
              "  _uploadFiles,\n",
              "  _uploadFilesContinue,\n",
              "};\n",
              "})(self);\n",
              "</script> "
            ]
          },
          "metadata": {}
        },
        {
          "output_type": "stream",
          "name": "stdout",
          "text": [
            "Saving nes_titles.csv to nes_titles.csv\n"
          ]
        }
      ],
      "source": [
        "# Upload the sp500.csv file\n",
        "from google.colab import files\n",
        "uploaded = files.upload()\n",
        "custom_tokenizer = Tokenizer.from_file(\"nes_salad_tokenizer.json\")"
      ]
    },
    {
      "cell_type": "code",
      "source": [
        "from google.colab import files\n",
        "uploaded = files.upload()\n",
        "df = pd.read_csv(\"nes_titles.csv\")\n",
        "game_titles = list(df['Title'])"
      ],
      "metadata": {
        "id": "EMcJZEFKeOii"
      },
      "execution_count": 9,
      "outputs": []
    },
    {
      "cell_type": "code",
      "source": [
        "sequences = [custom_tokenizer.encode(title).ids for title in game_titles]"
      ],
      "metadata": {
        "id": "F738hmUPhUgf"
      },
      "execution_count": 22,
      "outputs": []
    },
    {
      "cell_type": "code",
      "source": [
        "len(sequences)"
      ],
      "metadata": {
        "colab": {
          "base_uri": "https://localhost:8080/"
        },
        "id": "F3JB4x2fhfAX",
        "outputId": "14cfaa01-d2d2-4354-82ff-d8116fda7a18"
      },
      "execution_count": 23,
      "outputs": [
        {
          "output_type": "execute_result",
          "data": {
            "text/plain": [
              "1386"
            ]
          },
          "metadata": {},
          "execution_count": 23
        }
      ]
    },
    {
      "cell_type": "code",
      "source": [
        "# Pad sequences to ensure equal length\n",
        "max_seq_length = max(len(seq) for seq in sequences)\n",
        "padded_sequences = [torch.tensor(seq) for seq in sequences]\n",
        "padded_sequences = pad_sequence(padded_sequences, batch_first=True)"
      ],
      "metadata": {
        "id": "Rs2Zjm9ShtXZ"
      },
      "execution_count": 24,
      "outputs": []
    },
    {
      "cell_type": "code",
      "execution_count": 16,
      "metadata": {
        "id": "nLhnfW7PoZih"
      },
      "outputs": [],
      "source": [
        "# # Tokenize the game titles\n",
        "# word_to_index = {}\n",
        "# index_to_word = {}\n",
        "# for title in game_titles:\n",
        "#     for word in title.split():\n",
        "#         if word not in word_to_index:\n",
        "#             index = len(word_to_index)\n",
        "#             word_to_index[word] = index\n",
        "#             index_to_word[index] = word\n",
        "\n",
        "# # Convert titles to sequences of tokens\n",
        "# sequences = [[word_to_index[word] for word in title.split()] for title in game_titles]\n",
        "\n"
      ]
    },
    {
      "cell_type": "markdown",
      "metadata": {
        "id": "iIwsR5lApqKp"
      },
      "source": [
        "# Pytorch"
      ]
    },
    {
      "cell_type": "code",
      "execution_count": 26,
      "metadata": {
        "id": "ytoQALjRoV3f"
      },
      "outputs": [],
      "source": [
        "# Define dataset and dataloader\n",
        "class TitlesDataset(Dataset):\n",
        "    def __init__(self, sequences):\n",
        "        self.sequences = sequences\n",
        "\n",
        "    def __len__(self):\n",
        "        return len(self.sequences)\n",
        "\n",
        "    def __getitem__(self, idx):\n",
        "        return self.sequences[idx, :-1], self.sequences[idx, 1:]\n",
        "\n",
        "dataset = TitlesDataset(padded_sequences)\n",
        "dataloader = DataLoader(dataset, batch_size=6, shuffle=True)"
      ]
    },
    {
      "cell_type": "code",
      "execution_count": 27,
      "metadata": {
        "id": "0YlGq6DaoWVs"
      },
      "outputs": [],
      "source": [
        "# Define LSTM model architecture\n",
        "class LSTMModel(nn.Module):\n",
        "    def __init__(self, vocab_size, embedding_dim, hidden_dim):\n",
        "        super(LSTMModel, self).__init__()\n",
        "        self.embedding = nn.Embedding(vocab_size, embedding_dim)\n",
        "        self.lstm = nn.LSTM(embedding_dim, hidden_dim, batch_first=True)\n",
        "        self.fc = nn.Linear(hidden_dim, vocab_size)\n",
        "\n",
        "    def forward(self, x):\n",
        "        embedded = self.embedding(x)\n",
        "        output, _ = self.lstm(embedded)\n",
        "        output = self.fc(output)\n",
        "        return output"
      ]
    },
    {
      "cell_type": "code",
      "execution_count": 29,
      "metadata": {
        "id": "8sFX_lpzpWyi"
      },
      "outputs": [],
      "source": [
        "# Define hyperparameters\n",
        "vocab_size = custom_tokenizer.get_vocab_size()\n",
        "embedding_dim = 512\n",
        "hidden_dim = 100\n",
        "num_epochs = 100"
      ]
    },
    {
      "cell_type": "code",
      "execution_count": 30,
      "metadata": {
        "id": "_LvYB6X-pYRe"
      },
      "outputs": [],
      "source": [
        "# Initialize model, loss function, and optimizer\n",
        "device = torch.device(\"cuda\" if torch.cuda.is_available() else \"cpu\")\n",
        "model = LSTMModel(vocab_size, embedding_dim, hidden_dim).to(device)\n",
        "criterion = nn.CrossEntropyLoss()\n",
        "optimizer = optim.Adam(model.parameters(), lr=0.001)"
      ]
    },
    {
      "cell_type": "code",
      "execution_count": null,
      "metadata": {
        "id": "IYi8-XDGpYPR"
      },
      "outputs": [],
      "source": [
        "# Train the model\n",
        "for epoch in range(num_epochs):\n",
        "    running_loss = 0.0\n",
        "    for inputs, targets in dataloader:\n",
        "        inputs, targets = inputs.to(device), targets.to(device)\n",
        "        optimizer.zero_grad()\n",
        "        outputs = model(inputs)\n",
        "        loss = criterion(outputs.transpose(1, 2), targets)\n",
        "        loss.backward()\n",
        "        optimizer.step()\n",
        "        running_loss += loss.item()\n",
        "    print(f\"Epoch {epoch+1}/{num_epochs}, Loss: {running_loss}\")"
      ]
    },
    {
      "cell_type": "code",
      "execution_count": 123,
      "metadata": {
        "id": "HI1AOe7ZpYMy"
      },
      "outputs": [],
      "source": [
        "# def generate_title(model, seed_titles, max_length):\n",
        "#     with torch.no_grad():\n",
        "#         for seed_title in seed_titles:\n",
        "#             seed_sequence = [word_to_index[word] for word in seed_title.split()]\n",
        "#             for _ in range(max_length):\n",
        "#                 input_tensor = torch.tensor(seed_sequence).unsqueeze(0).to(device)\n",
        "#                 output = model(input_tensor)\n",
        "#                 predicted_token = torch.argmax(output[:, -1, :], dim=-1)\n",
        "#                 seed_sequence.append(predicted_token.item())\n",
        "#                 if predicted_token.item() == 0:\n",
        "#                     break\n",
        "#             generated_title = ' '.join([index_to_word[index] for index in seed_sequence])\n",
        "#             print(\"Generated Title:\", generated_title)\n",
        "\n",
        "# def generate_title(model, seed_titles, max_length, top_n=5):\n",
        "#     with torch.no_grad():\n",
        "#         for seed_title in seed_titles:\n",
        "#             seed_sequence = [word_to_index[word] for word in seed_title.split()]\n",
        "#             for _ in range(max_length):\n",
        "#                 input_tensor = torch.tensor(seed_sequence).unsqueeze(0).to(device)\n",
        "#                 output = model(input_tensor)\n",
        "#                 last_token_probs = output[:, -1, :]\n",
        "#                 top_n_probs, top_n_indices = torch.topk(last_token_probs, top_n)\n",
        "#                 sampled_index = np.random.choice(top_n_indices.squeeze().cpu().numpy())\n",
        "#                 seed_sequence.append(sampled_index.item())\n",
        "#                 if sampled_index.item() == 0:\n",
        "#                     break\n",
        "#             generated_title = ' '.join([index_to_word[index] for index in seed_sequence])\n",
        "#             print(\"Generated Title:\", generated_title)\n",
        "\n",
        "# def generate_title(model, seed_titles, max_length, top_n=5):\n",
        "#     with torch.no_grad():\n",
        "#         for seed_title in seed_titles:\n",
        "#             seed_sequence = custom_tokenizer.encode(seed_title).ids\n",
        "#             # seed_sequence = [word_to_index[word] for word in seed_title.split()]\n",
        "#             for _ in range(max_length):\n",
        "#                 input_tensor = torch.tensor(seed_sequence).unsqueeze(0).to(device)\n",
        "#                 output = model(input_tensor)\n",
        "#                 last_token_probs = output[:, -1, :]\n",
        "#                 top_n_probs, top_n_indices = torch.topk(last_token_probs, top_n)\n",
        "#                 sampled_index = np.random.choice(top_n_indices.squeeze().cpu().numpy())\n",
        "#                 seed_sequence.append(sampled_index.item())\n",
        "#                 if sampled_index.item() == 0:\n",
        "#                     break\n",
        "#             # generated_title = ' '.join([index_to_word[index] for index in seed_sequence])\n",
        "#             generated_title = custom_tokenizer.decode(seed_sequence)\n",
        "#             generated_title\n",
        "#             print(\"Generated Title:\", generated_title)\n",
        "\n",
        "def generate_title(model, seed_titles, max_length, top_n=5):\n",
        "    with torch.no_grad():\n",
        "        for seed_title in seed_titles:\n",
        "            seed_sequence = custom_tokenizer.encode(seed_title).ids\n",
        "            # print(seed_sequence)\n",
        "            # seed_sequence = [word_to_index[word] for word in seed_title.split()]\n",
        "            for _ in range(max_length):\n",
        "                input_tensor = torch.tensor(seed_sequence).unsqueeze(0).to(device)\n",
        "                output = model(input_tensor)\n",
        "                last_token_probs = output[:, -1, :]\n",
        "                top_n_probs, top_n_indices = torch.topk(last_token_probs, top_n)\n",
        "                sampled_index = np.random.choice(top_n_indices.squeeze().cpu().numpy())\n",
        "                sampled_token = custom_tokenizer.decode([sampled_index.item()])\n",
        "                # print(sampled_token)\n",
        "                # Check if sampled token is a subword and concatenate with previous word\n",
        "                if sampled_token.startswith(\"##\") and len(seed_sequence) > 0:\n",
        "                    # Remove \"##\" prefix and concatenate with previous token\n",
        "                    combined_token = custom_tokenizer.decode([seed_sequence[-1]]) + sampled_token[2:]\n",
        "                    # Replace the last token with the combined token\n",
        "                    seed_sequence[-1] = custom_tokenizer.encode(combined_token).ids[0]\n",
        "                else:\n",
        "                    seed_sequence.append(sampled_index.item())\n",
        "                if sampled_index.item() == 0:\n",
        "                    break\n",
        "            generated_title = custom_tokenizer.decode(seed_sequence)\n",
        "            generated_title = generated_title.split()\n",
        "            final_title = \"\"\n",
        "            for i in range(len(generated_title)):\n",
        "              if generated_title[i].startswith(\"##\") and len(generated_title) > 0:\n",
        "                combined_token = generated_title[i-1] + generated_title[i][2:]\n",
        "                final_title = final_title[:-len(generated_title[i-1])]\n",
        "                final_title += combined_token\n",
        "              else:\n",
        "                final_title += \" \" + generated_title[i]\n",
        "            print(\"Generated Title:\", final_title)\n",
        "            # return final_title"
      ]
    },
    {
      "cell_type": "code",
      "source": [
        "# custom_tokenizer.encode('Adventures').ids\n",
        "# custom_tokenizer.decode([2654, 339])"
      ],
      "metadata": {
        "id": "B_xMXmNFifUz"
      },
      "execution_count": 124,
      "outputs": []
    },
    {
      "cell_type": "code",
      "execution_count": 138,
      "metadata": {
        "colab": {
          "base_uri": "https://localhost:8080/"
        },
        "id": "YrVsPpnVpYKY",
        "outputId": "6b2cee44-d675-45a2-ea51-487e3231c41c"
      },
      "outputs": [
        {
          "output_type": "stream",
          "name": "stdout",
          "text": [
            "Generated Title:  Adventures in Tom Sawyer and Bullwin 2 ChallengePAL 3: II:\n",
            "Generated Title:  Die 2: Ka 3: MonogatariJP Street\n",
            "Generated Title:  Boys of Thunder 2 Grand 3 of Dyn Junior\n",
            "Generated Title:  Tom and BallPALDragon 2FR 2: The Black\n",
            "Generated Title:  Zelda II: Sekai no Monogatari 2 Part Tom\n",
            "Generated Title:  Mermaid The Black Bass 2JP of Prince Super II:\n",
            "Generated Title:  Mermaid Man and the Lost in Magic of Yuu Tom Mahjong II 3 Takahashi\n",
            "Generated Title:  Dragon Warrior Power Dragon Power Soccer Dragon Power Dragon\n"
          ]
        }
      ],
      "source": [
        "# Seed titles for generation\n",
        "seed_titles = [\"Adventures\", \"Die\", \"Boys\", 'Tom', \"Zelda\", 'Mermaid', ' Mermaid Man and the Lost', 'Dragon']\n",
        "# seed_titles = ['Jerry']\n",
        "\n",
        "# Generate title variations\n",
        "generate_title(model, seed_titles, max_length=10, top_n=5)"
      ]
    },
    {
      "cell_type": "code",
      "source": [],
      "metadata": {
        "id": "kDTC2dtYoCDd"
      },
      "execution_count": null,
      "outputs": []
    }
  ],
  "metadata": {
    "accelerator": "GPU",
    "colab": {
      "gpuType": "T4",
      "provenance": [],
      "include_colab_link": true
    },
    "kernelspec": {
      "display_name": "Python 3",
      "name": "python3"
    },
    "language_info": {
      "codemirror_mode": {
        "name": "ipython",
        "version": 3
      },
      "file_extension": ".py",
      "mimetype": "text/x-python",
      "name": "python",
      "nbconvert_exporter": "python",
      "pygments_lexer": "ipython3",
      "version": "3.9.13"
    }
  },
  "nbformat": 4,
  "nbformat_minor": 0
}