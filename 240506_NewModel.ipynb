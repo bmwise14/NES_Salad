{
  "cells": [
    {
      "cell_type": "markdown",
      "metadata": {
        "id": "view-in-github",
        "colab_type": "text"
      },
      "source": [
        "<a href=\"https://colab.research.google.com/github/bmwise14/NES_Salad/blob/main/240506_NewModel.ipynb\" target=\"_parent\"><img src=\"https://colab.research.google.com/assets/colab-badge.svg\" alt=\"Open In Colab\"/></a>"
      ]
    },
    {
      "cell_type": "code",
      "execution_count": 195,
      "metadata": {
        "id": "Loe0wgGRm6tq"
      },
      "outputs": [],
      "source": [
        "import numpy as np\n",
        "import torch\n",
        "import torch.nn as nn\n",
        "import torch.optim as optim\n",
        "from torch.utils.data import Dataset, DataLoader\n",
        "from torch.nn.utils.rnn import pad_sequence\n",
        "import pandas as pd\n",
        "\n",
        "from tokenizers import Tokenizer, AddedToken"
      ]
    },
    {
      "cell_type": "code",
      "execution_count": 196,
      "metadata": {
        "colab": {
          "base_uri": "https://localhost:8080/"
        },
        "id": "srqis7rooyW7",
        "outputId": "7c2139c7-63d0-40d2-ab48-c690404975d6"
      },
      "outputs": [
        {
          "output_type": "execute_result",
          "data": {
            "text/plain": [
              "device(type='cuda')"
            ]
          },
          "metadata": {},
          "execution_count": 196
        }
      ],
      "source": [
        "device = torch.device(\"cuda\" if torch.cuda.is_available() else \"cpu\")\n",
        "device"
      ]
    },
    {
      "cell_type": "code",
      "execution_count": 197,
      "metadata": {
        "colab": {
          "base_uri": "https://localhost:8080/",
          "height": 74
        },
        "id": "qnB6ezyGr2Pg",
        "outputId": "d8281730-43c1-4d19-89df-d1e7d200d89c"
      },
      "outputs": [
        {
          "output_type": "display_data",
          "data": {
            "text/plain": [
              "<IPython.core.display.HTML object>"
            ],
            "text/html": [
              "\n",
              "     <input type=\"file\" id=\"files-07701e93-2acc-4886-9687-df19b75a50a1\" name=\"files[]\" multiple disabled\n",
              "        style=\"border:none\" />\n",
              "     <output id=\"result-07701e93-2acc-4886-9687-df19b75a50a1\">\n",
              "      Upload widget is only available when the cell has been executed in the\n",
              "      current browser session. Please rerun this cell to enable.\n",
              "      </output>\n",
              "      <script>// Copyright 2017 Google LLC\n",
              "//\n",
              "// Licensed under the Apache License, Version 2.0 (the \"License\");\n",
              "// you may not use this file except in compliance with the License.\n",
              "// You may obtain a copy of the License at\n",
              "//\n",
              "//      http://www.apache.org/licenses/LICENSE-2.0\n",
              "//\n",
              "// Unless required by applicable law or agreed to in writing, software\n",
              "// distributed under the License is distributed on an \"AS IS\" BASIS,\n",
              "// WITHOUT WARRANTIES OR CONDITIONS OF ANY KIND, either express or implied.\n",
              "// See the License for the specific language governing permissions and\n",
              "// limitations under the License.\n",
              "\n",
              "/**\n",
              " * @fileoverview Helpers for google.colab Python module.\n",
              " */\n",
              "(function(scope) {\n",
              "function span(text, styleAttributes = {}) {\n",
              "  const element = document.createElement('span');\n",
              "  element.textContent = text;\n",
              "  for (const key of Object.keys(styleAttributes)) {\n",
              "    element.style[key] = styleAttributes[key];\n",
              "  }\n",
              "  return element;\n",
              "}\n",
              "\n",
              "// Max number of bytes which will be uploaded at a time.\n",
              "const MAX_PAYLOAD_SIZE = 100 * 1024;\n",
              "\n",
              "function _uploadFiles(inputId, outputId) {\n",
              "  const steps = uploadFilesStep(inputId, outputId);\n",
              "  const outputElement = document.getElementById(outputId);\n",
              "  // Cache steps on the outputElement to make it available for the next call\n",
              "  // to uploadFilesContinue from Python.\n",
              "  outputElement.steps = steps;\n",
              "\n",
              "  return _uploadFilesContinue(outputId);\n",
              "}\n",
              "\n",
              "// This is roughly an async generator (not supported in the browser yet),\n",
              "// where there are multiple asynchronous steps and the Python side is going\n",
              "// to poll for completion of each step.\n",
              "// This uses a Promise to block the python side on completion of each step,\n",
              "// then passes the result of the previous step as the input to the next step.\n",
              "function _uploadFilesContinue(outputId) {\n",
              "  const outputElement = document.getElementById(outputId);\n",
              "  const steps = outputElement.steps;\n",
              "\n",
              "  const next = steps.next(outputElement.lastPromiseValue);\n",
              "  return Promise.resolve(next.value.promise).then((value) => {\n",
              "    // Cache the last promise value to make it available to the next\n",
              "    // step of the generator.\n",
              "    outputElement.lastPromiseValue = value;\n",
              "    return next.value.response;\n",
              "  });\n",
              "}\n",
              "\n",
              "/**\n",
              " * Generator function which is called between each async step of the upload\n",
              " * process.\n",
              " * @param {string} inputId Element ID of the input file picker element.\n",
              " * @param {string} outputId Element ID of the output display.\n",
              " * @return {!Iterable<!Object>} Iterable of next steps.\n",
              " */\n",
              "function* uploadFilesStep(inputId, outputId) {\n",
              "  const inputElement = document.getElementById(inputId);\n",
              "  inputElement.disabled = false;\n",
              "\n",
              "  const outputElement = document.getElementById(outputId);\n",
              "  outputElement.innerHTML = '';\n",
              "\n",
              "  const pickedPromise = new Promise((resolve) => {\n",
              "    inputElement.addEventListener('change', (e) => {\n",
              "      resolve(e.target.files);\n",
              "    });\n",
              "  });\n",
              "\n",
              "  const cancel = document.createElement('button');\n",
              "  inputElement.parentElement.appendChild(cancel);\n",
              "  cancel.textContent = 'Cancel upload';\n",
              "  const cancelPromise = new Promise((resolve) => {\n",
              "    cancel.onclick = () => {\n",
              "      resolve(null);\n",
              "    };\n",
              "  });\n",
              "\n",
              "  // Wait for the user to pick the files.\n",
              "  const files = yield {\n",
              "    promise: Promise.race([pickedPromise, cancelPromise]),\n",
              "    response: {\n",
              "      action: 'starting',\n",
              "    }\n",
              "  };\n",
              "\n",
              "  cancel.remove();\n",
              "\n",
              "  // Disable the input element since further picks are not allowed.\n",
              "  inputElement.disabled = true;\n",
              "\n",
              "  if (!files) {\n",
              "    return {\n",
              "      response: {\n",
              "        action: 'complete',\n",
              "      }\n",
              "    };\n",
              "  }\n",
              "\n",
              "  for (const file of files) {\n",
              "    const li = document.createElement('li');\n",
              "    li.append(span(file.name, {fontWeight: 'bold'}));\n",
              "    li.append(span(\n",
              "        `(${file.type || 'n/a'}) - ${file.size} bytes, ` +\n",
              "        `last modified: ${\n",
              "            file.lastModifiedDate ? file.lastModifiedDate.toLocaleDateString() :\n",
              "                                    'n/a'} - `));\n",
              "    const percent = span('0% done');\n",
              "    li.appendChild(percent);\n",
              "\n",
              "    outputElement.appendChild(li);\n",
              "\n",
              "    const fileDataPromise = new Promise((resolve) => {\n",
              "      const reader = new FileReader();\n",
              "      reader.onload = (e) => {\n",
              "        resolve(e.target.result);\n",
              "      };\n",
              "      reader.readAsArrayBuffer(file);\n",
              "    });\n",
              "    // Wait for the data to be ready.\n",
              "    let fileData = yield {\n",
              "      promise: fileDataPromise,\n",
              "      response: {\n",
              "        action: 'continue',\n",
              "      }\n",
              "    };\n",
              "\n",
              "    // Use a chunked sending to avoid message size limits. See b/62115660.\n",
              "    let position = 0;\n",
              "    do {\n",
              "      const length = Math.min(fileData.byteLength - position, MAX_PAYLOAD_SIZE);\n",
              "      const chunk = new Uint8Array(fileData, position, length);\n",
              "      position += length;\n",
              "\n",
              "      const base64 = btoa(String.fromCharCode.apply(null, chunk));\n",
              "      yield {\n",
              "        response: {\n",
              "          action: 'append',\n",
              "          file: file.name,\n",
              "          data: base64,\n",
              "        },\n",
              "      };\n",
              "\n",
              "      let percentDone = fileData.byteLength === 0 ?\n",
              "          100 :\n",
              "          Math.round((position / fileData.byteLength) * 100);\n",
              "      percent.textContent = `${percentDone}% done`;\n",
              "\n",
              "    } while (position < fileData.byteLength);\n",
              "  }\n",
              "\n",
              "  // All done.\n",
              "  yield {\n",
              "    response: {\n",
              "      action: 'complete',\n",
              "    }\n",
              "  };\n",
              "}\n",
              "\n",
              "scope.google = scope.google || {};\n",
              "scope.google.colab = scope.google.colab || {};\n",
              "scope.google.colab._files = {\n",
              "  _uploadFiles,\n",
              "  _uploadFilesContinue,\n",
              "};\n",
              "})(self);\n",
              "</script> "
            ]
          },
          "metadata": {}
        },
        {
          "output_type": "stream",
          "name": "stdout",
          "text": [
            "Saving nes_salad_tokenizer2.json to nes_salad_tokenizer2.json\n"
          ]
        }
      ],
      "source": [
        "# Upload the sp500.csv file\n",
        "from google.colab import files\n",
        "uploaded = files.upload()\n",
        "custom_tokenizer = Tokenizer.from_file(\"nes_salad_tokenizer.json\")"
      ]
    },
    {
      "cell_type": "code",
      "source": [
        "from google.colab import files\n",
        "uploaded = files.upload()\n",
        "df = pd.read_csv(\"nes_titles.csv\")\n",
        "game_titles = list(df['Title'])"
      ],
      "metadata": {
        "colab": {
          "base_uri": "https://localhost:8080/",
          "height": 74
        },
        "id": "EMcJZEFKeOii",
        "outputId": "9ae7fa5a-d2fa-4ee5-8d6a-a6cd35c20392"
      },
      "execution_count": 198,
      "outputs": [
        {
          "output_type": "display_data",
          "data": {
            "text/plain": [
              "<IPython.core.display.HTML object>"
            ],
            "text/html": [
              "\n",
              "     <input type=\"file\" id=\"files-64936767-980b-4fd9-be11-1f5d768ff0c4\" name=\"files[]\" multiple disabled\n",
              "        style=\"border:none\" />\n",
              "     <output id=\"result-64936767-980b-4fd9-be11-1f5d768ff0c4\">\n",
              "      Upload widget is only available when the cell has been executed in the\n",
              "      current browser session. Please rerun this cell to enable.\n",
              "      </output>\n",
              "      <script>// Copyright 2017 Google LLC\n",
              "//\n",
              "// Licensed under the Apache License, Version 2.0 (the \"License\");\n",
              "// you may not use this file except in compliance with the License.\n",
              "// You may obtain a copy of the License at\n",
              "//\n",
              "//      http://www.apache.org/licenses/LICENSE-2.0\n",
              "//\n",
              "// Unless required by applicable law or agreed to in writing, software\n",
              "// distributed under the License is distributed on an \"AS IS\" BASIS,\n",
              "// WITHOUT WARRANTIES OR CONDITIONS OF ANY KIND, either express or implied.\n",
              "// See the License for the specific language governing permissions and\n",
              "// limitations under the License.\n",
              "\n",
              "/**\n",
              " * @fileoverview Helpers for google.colab Python module.\n",
              " */\n",
              "(function(scope) {\n",
              "function span(text, styleAttributes = {}) {\n",
              "  const element = document.createElement('span');\n",
              "  element.textContent = text;\n",
              "  for (const key of Object.keys(styleAttributes)) {\n",
              "    element.style[key] = styleAttributes[key];\n",
              "  }\n",
              "  return element;\n",
              "}\n",
              "\n",
              "// Max number of bytes which will be uploaded at a time.\n",
              "const MAX_PAYLOAD_SIZE = 100 * 1024;\n",
              "\n",
              "function _uploadFiles(inputId, outputId) {\n",
              "  const steps = uploadFilesStep(inputId, outputId);\n",
              "  const outputElement = document.getElementById(outputId);\n",
              "  // Cache steps on the outputElement to make it available for the next call\n",
              "  // to uploadFilesContinue from Python.\n",
              "  outputElement.steps = steps;\n",
              "\n",
              "  return _uploadFilesContinue(outputId);\n",
              "}\n",
              "\n",
              "// This is roughly an async generator (not supported in the browser yet),\n",
              "// where there are multiple asynchronous steps and the Python side is going\n",
              "// to poll for completion of each step.\n",
              "// This uses a Promise to block the python side on completion of each step,\n",
              "// then passes the result of the previous step as the input to the next step.\n",
              "function _uploadFilesContinue(outputId) {\n",
              "  const outputElement = document.getElementById(outputId);\n",
              "  const steps = outputElement.steps;\n",
              "\n",
              "  const next = steps.next(outputElement.lastPromiseValue);\n",
              "  return Promise.resolve(next.value.promise).then((value) => {\n",
              "    // Cache the last promise value to make it available to the next\n",
              "    // step of the generator.\n",
              "    outputElement.lastPromiseValue = value;\n",
              "    return next.value.response;\n",
              "  });\n",
              "}\n",
              "\n",
              "/**\n",
              " * Generator function which is called between each async step of the upload\n",
              " * process.\n",
              " * @param {string} inputId Element ID of the input file picker element.\n",
              " * @param {string} outputId Element ID of the output display.\n",
              " * @return {!Iterable<!Object>} Iterable of next steps.\n",
              " */\n",
              "function* uploadFilesStep(inputId, outputId) {\n",
              "  const inputElement = document.getElementById(inputId);\n",
              "  inputElement.disabled = false;\n",
              "\n",
              "  const outputElement = document.getElementById(outputId);\n",
              "  outputElement.innerHTML = '';\n",
              "\n",
              "  const pickedPromise = new Promise((resolve) => {\n",
              "    inputElement.addEventListener('change', (e) => {\n",
              "      resolve(e.target.files);\n",
              "    });\n",
              "  });\n",
              "\n",
              "  const cancel = document.createElement('button');\n",
              "  inputElement.parentElement.appendChild(cancel);\n",
              "  cancel.textContent = 'Cancel upload';\n",
              "  const cancelPromise = new Promise((resolve) => {\n",
              "    cancel.onclick = () => {\n",
              "      resolve(null);\n",
              "    };\n",
              "  });\n",
              "\n",
              "  // Wait for the user to pick the files.\n",
              "  const files = yield {\n",
              "    promise: Promise.race([pickedPromise, cancelPromise]),\n",
              "    response: {\n",
              "      action: 'starting',\n",
              "    }\n",
              "  };\n",
              "\n",
              "  cancel.remove();\n",
              "\n",
              "  // Disable the input element since further picks are not allowed.\n",
              "  inputElement.disabled = true;\n",
              "\n",
              "  if (!files) {\n",
              "    return {\n",
              "      response: {\n",
              "        action: 'complete',\n",
              "      }\n",
              "    };\n",
              "  }\n",
              "\n",
              "  for (const file of files) {\n",
              "    const li = document.createElement('li');\n",
              "    li.append(span(file.name, {fontWeight: 'bold'}));\n",
              "    li.append(span(\n",
              "        `(${file.type || 'n/a'}) - ${file.size} bytes, ` +\n",
              "        `last modified: ${\n",
              "            file.lastModifiedDate ? file.lastModifiedDate.toLocaleDateString() :\n",
              "                                    'n/a'} - `));\n",
              "    const percent = span('0% done');\n",
              "    li.appendChild(percent);\n",
              "\n",
              "    outputElement.appendChild(li);\n",
              "\n",
              "    const fileDataPromise = new Promise((resolve) => {\n",
              "      const reader = new FileReader();\n",
              "      reader.onload = (e) => {\n",
              "        resolve(e.target.result);\n",
              "      };\n",
              "      reader.readAsArrayBuffer(file);\n",
              "    });\n",
              "    // Wait for the data to be ready.\n",
              "    let fileData = yield {\n",
              "      promise: fileDataPromise,\n",
              "      response: {\n",
              "        action: 'continue',\n",
              "      }\n",
              "    };\n",
              "\n",
              "    // Use a chunked sending to avoid message size limits. See b/62115660.\n",
              "    let position = 0;\n",
              "    do {\n",
              "      const length = Math.min(fileData.byteLength - position, MAX_PAYLOAD_SIZE);\n",
              "      const chunk = new Uint8Array(fileData, position, length);\n",
              "      position += length;\n",
              "\n",
              "      const base64 = btoa(String.fromCharCode.apply(null, chunk));\n",
              "      yield {\n",
              "        response: {\n",
              "          action: 'append',\n",
              "          file: file.name,\n",
              "          data: base64,\n",
              "        },\n",
              "      };\n",
              "\n",
              "      let percentDone = fileData.byteLength === 0 ?\n",
              "          100 :\n",
              "          Math.round((position / fileData.byteLength) * 100);\n",
              "      percent.textContent = `${percentDone}% done`;\n",
              "\n",
              "    } while (position < fileData.byteLength);\n",
              "  }\n",
              "\n",
              "  // All done.\n",
              "  yield {\n",
              "    response: {\n",
              "      action: 'complete',\n",
              "    }\n",
              "  };\n",
              "}\n",
              "\n",
              "scope.google = scope.google || {};\n",
              "scope.google.colab = scope.google.colab || {};\n",
              "scope.google.colab._files = {\n",
              "  _uploadFiles,\n",
              "  _uploadFilesContinue,\n",
              "};\n",
              "})(self);\n",
              "</script> "
            ]
          },
          "metadata": {}
        },
        {
          "output_type": "stream",
          "name": "stdout",
          "text": [
            "Saving nes_titles.csv to nes_titles (1).csv\n"
          ]
        }
      ]
    },
    {
      "cell_type": "code",
      "source": [
        "sequences = [custom_tokenizer.encode(title).ids for title in game_titles]"
      ],
      "metadata": {
        "id": "F738hmUPhUgf"
      },
      "execution_count": 199,
      "outputs": []
    },
    {
      "cell_type": "code",
      "source": [
        "len(sequences)"
      ],
      "metadata": {
        "colab": {
          "base_uri": "https://localhost:8080/"
        },
        "id": "F3JB4x2fhfAX",
        "outputId": "a8a572d4-d43f-41ea-b2ab-0d965654af1f"
      },
      "execution_count": 200,
      "outputs": [
        {
          "output_type": "execute_result",
          "data": {
            "text/plain": [
              "1386"
            ]
          },
          "metadata": {},
          "execution_count": 200
        }
      ]
    },
    {
      "cell_type": "code",
      "source": [
        "# Pad sequences to ensure equal length\n",
        "max_seq_length = max(len(seq) for seq in sequences)\n",
        "padded_sequences = [torch.tensor(seq) for seq in sequences]\n",
        "padded_sequences = pad_sequence(padded_sequences, batch_first=True)"
      ],
      "metadata": {
        "id": "Rs2Zjm9ShtXZ"
      },
      "execution_count": 201,
      "outputs": []
    },
    {
      "cell_type": "code",
      "execution_count": 202,
      "metadata": {
        "id": "nLhnfW7PoZih"
      },
      "outputs": [],
      "source": [
        "# # Tokenize the game titles\n",
        "# word_to_index = {}\n",
        "# index_to_word = {}\n",
        "# for title in game_titles:\n",
        "#     for word in title.split():\n",
        "#         if word not in word_to_index:\n",
        "#             index = len(word_to_index)\n",
        "#             word_to_index[word] = index\n",
        "#             index_to_word[index] = word\n",
        "\n",
        "# # Convert titles to sequences of tokens\n",
        "# sequences = [[word_to_index[word] for word in title.split()] for title in game_titles]\n",
        "\n"
      ]
    },
    {
      "cell_type": "markdown",
      "metadata": {
        "id": "iIwsR5lApqKp"
      },
      "source": [
        "# Pytorch"
      ]
    },
    {
      "cell_type": "code",
      "execution_count": 203,
      "metadata": {
        "id": "ytoQALjRoV3f"
      },
      "outputs": [],
      "source": [
        "# Define dataset and dataloader\n",
        "class TitlesDataset(Dataset):\n",
        "    def __init__(self, sequences):\n",
        "        self.sequences = sequences\n",
        "\n",
        "    def __len__(self):\n",
        "        return len(self.sequences)\n",
        "\n",
        "    def __getitem__(self, idx):\n",
        "        return self.sequences[idx, :-1], self.sequences[idx, 1:]\n",
        "\n",
        "dataset = TitlesDataset(padded_sequences)\n",
        "dataloader = DataLoader(dataset, batch_size=6, shuffle=True)"
      ]
    },
    {
      "cell_type": "code",
      "execution_count": 204,
      "metadata": {
        "id": "0YlGq6DaoWVs"
      },
      "outputs": [],
      "source": [
        "# Define LSTM model architecture\n",
        "class LSTMModel(nn.Module):\n",
        "    def __init__(self, vocab_size, embedding_dim, hidden_dim):\n",
        "        super(LSTMModel, self).__init__()\n",
        "        self.embedding = nn.Embedding(vocab_size, embedding_dim)\n",
        "        self.lstm = nn.LSTM(embedding_dim, hidden_dim, batch_first=True)\n",
        "        self.fc = nn.Linear(hidden_dim, vocab_size)\n",
        "\n",
        "    def forward(self, x):\n",
        "        embedded = self.embedding(x)\n",
        "        output, _ = self.lstm(embedded)\n",
        "        output = self.fc(output)\n",
        "        return output"
      ]
    },
    {
      "cell_type": "code",
      "execution_count": 205,
      "metadata": {
        "id": "8sFX_lpzpWyi"
      },
      "outputs": [],
      "source": [
        "# Define hyperparameters\n",
        "vocab_size = custom_tokenizer.get_vocab_size()\n",
        "embedding_dim = 512\n",
        "hidden_dim = 100\n",
        "num_epochs = 100"
      ]
    },
    {
      "cell_type": "code",
      "execution_count": 206,
      "metadata": {
        "id": "_LvYB6X-pYRe"
      },
      "outputs": [],
      "source": [
        "# Initialize model, loss function, and optimizer\n",
        "device = torch.device(\"cuda\" if torch.cuda.is_available() else \"cpu\")\n",
        "model = LSTMModel(vocab_size, embedding_dim, hidden_dim).to(device)\n",
        "criterion = nn.CrossEntropyLoss()\n",
        "optimizer = optim.Adam(model.parameters(), lr=0.001)"
      ]
    },
    {
      "cell_type": "code",
      "execution_count": 207,
      "metadata": {
        "colab": {
          "base_uri": "https://localhost:8080/"
        },
        "id": "IYi8-XDGpYPR",
        "outputId": "b85db233-26c0-43ac-eddd-b04bcb13b312"
      },
      "outputs": [
        {
          "output_type": "stream",
          "name": "stdout",
          "text": [
            "Epoch 1/100, Loss: 519.2182638645172\n",
            "Epoch 2/100, Loss: 343.19236785173416\n",
            "Epoch 3/100, Loss: 305.93618580698967\n",
            "Epoch 4/100, Loss: 271.12333461642265\n",
            "Epoch 5/100, Loss: 235.4013196527958\n",
            "Epoch 6/100, Loss: 199.64251559972763\n",
            "Epoch 7/100, Loss: 165.1072220504284\n",
            "Epoch 8/100, Loss: 133.05050349235535\n",
            "Epoch 9/100, Loss: 104.33450596034527\n",
            "Epoch 10/100, Loss: 80.95378781110048\n",
            "Epoch 11/100, Loss: 63.37870371341705\n",
            "Epoch 12/100, Loss: 50.67299888283014\n",
            "Epoch 13/100, Loss: 41.783351954072714\n",
            "Epoch 14/100, Loss: 35.29902673885226\n",
            "Epoch 15/100, Loss: 30.60105288401246\n",
            "Epoch 16/100, Loss: 26.892386559396982\n",
            "Epoch 17/100, Loss: 24.05290280468762\n",
            "Epoch 18/100, Loss: 21.869129333645105\n",
            "Epoch 19/100, Loss: 20.103840058669448\n",
            "Epoch 20/100, Loss: 18.6965537420474\n",
            "Epoch 21/100, Loss: 17.58520489372313\n",
            "Epoch 22/100, Loss: 16.700599036179483\n",
            "Epoch 23/100, Loss: 15.971502798609436\n",
            "Epoch 24/100, Loss: 15.29916985053569\n",
            "Epoch 25/100, Loss: 14.780210264958441\n",
            "Epoch 26/100, Loss: 14.49711680226028\n",
            "Epoch 27/100, Loss: 14.030063580255955\n",
            "Epoch 28/100, Loss: 13.781768047250807\n",
            "Epoch 29/100, Loss: 13.496303553692997\n",
            "Epoch 30/100, Loss: 13.325326550286263\n",
            "Epoch 31/100, Loss: 13.23173856898211\n",
            "Epoch 32/100, Loss: 12.96010513883084\n",
            "Epoch 33/100, Loss: 12.848951337160543\n",
            "Epoch 34/100, Loss: 12.685296938521788\n",
            "Epoch 35/100, Loss: 12.690069950185716\n",
            "Epoch 36/100, Loss: 12.492966340389103\n",
            "Epoch 37/100, Loss: 12.402245048608165\n",
            "Epoch 38/100, Loss: 12.330542152747512\n",
            "Epoch 39/100, Loss: 12.156253919005394\n",
            "Epoch 40/100, Loss: 12.094461791217327\n",
            "Epoch 41/100, Loss: 12.011207300238311\n",
            "Epoch 42/100, Loss: 11.868632039404474\n",
            "Epoch 43/100, Loss: 11.940888303564861\n",
            "Epoch 44/100, Loss: 11.874419712927192\n",
            "Epoch 45/100, Loss: 11.790723636513576\n",
            "Epoch 46/100, Loss: 11.787548773107119\n",
            "Epoch 47/100, Loss: 11.721904821461067\n",
            "Epoch 48/100, Loss: 11.725906525389291\n",
            "Epoch 49/100, Loss: 11.717706695431843\n",
            "Epoch 50/100, Loss: 11.636879512807354\n",
            "Epoch 51/100, Loss: 11.614797519519925\n",
            "Epoch 52/100, Loss: 11.515365285798907\n",
            "Epoch 53/100, Loss: 11.535850304644555\n",
            "Epoch 54/100, Loss: 11.675083718961105\n",
            "Epoch 55/100, Loss: 11.63133396889316\n",
            "Epoch 56/100, Loss: 11.748031977534993\n",
            "Epoch 57/100, Loss: 11.732998456805944\n",
            "Epoch 58/100, Loss: 11.640296697616577\n",
            "Epoch 59/100, Loss: 11.584074654383585\n",
            "Epoch 60/100, Loss: 11.588254772126675\n",
            "Epoch 61/100, Loss: 11.55892546265386\n",
            "Epoch 62/100, Loss: 11.36196300201118\n",
            "Epoch 63/100, Loss: 11.201770445331931\n",
            "Epoch 64/100, Loss: 11.16754961758852\n",
            "Epoch 65/100, Loss: 11.16003897273913\n",
            "Epoch 66/100, Loss: 11.138787755277008\n",
            "Epoch 67/100, Loss: 11.123524171707686\n",
            "Epoch 68/100, Loss: 11.095937009558838\n",
            "Epoch 69/100, Loss: 11.129604085086612\n",
            "Epoch 70/100, Loss: 11.14534136740258\n",
            "Epoch 71/100, Loss: 11.429696311068255\n",
            "Epoch 72/100, Loss: 11.581756396626588\n",
            "Epoch 73/100, Loss: 11.570074848947115\n",
            "Epoch 74/100, Loss: 11.46473991801031\n",
            "Epoch 75/100, Loss: 11.338453314150684\n",
            "Epoch 76/100, Loss: 11.222679595870432\n",
            "Epoch 77/100, Loss: 11.179977528256131\n",
            "Epoch 78/100, Loss: 11.117553212025086\n",
            "Epoch 79/100, Loss: 11.08424571643991\n",
            "Epoch 80/100, Loss: 11.09209999574523\n",
            "Epoch 81/100, Loss: 11.067347333359066\n",
            "Epoch 82/100, Loss: 11.068348001223058\n",
            "Epoch 83/100, Loss: 11.07362374290824\n",
            "Epoch 84/100, Loss: 11.044212567649083\n",
            "Epoch 85/100, Loss: 11.085996449852246\n",
            "Epoch 86/100, Loss: 11.151897592935711\n",
            "Epoch 87/100, Loss: 11.086126864465768\n",
            "Epoch 88/100, Loss: 11.09693408064777\n",
            "Epoch 89/100, Loss: 11.084363640722586\n",
            "Epoch 90/100, Loss: 11.225799433304928\n",
            "Epoch 91/100, Loss: 11.410685806986294\n",
            "Epoch 92/100, Loss: 11.291740123648196\n",
            "Epoch 93/100, Loss: 11.223669004830299\n",
            "Epoch 94/100, Loss: 11.202768211900548\n",
            "Epoch 95/100, Loss: 11.108107666717842\n",
            "Epoch 96/100, Loss: 11.07913192997512\n",
            "Epoch 97/100, Loss: 11.107173569034785\n",
            "Epoch 98/100, Loss: 11.024213836193667\n",
            "Epoch 99/100, Loss: 11.161197486449964\n",
            "Epoch 100/100, Loss: 11.063870248675812\n"
          ]
        }
      ],
      "source": [
        "# Train the model\n",
        "for epoch in range(num_epochs):\n",
        "    running_loss = 0.0\n",
        "    for inputs, targets in dataloader:\n",
        "        inputs, targets = inputs.to(device), targets.to(device)\n",
        "        optimizer.zero_grad()\n",
        "        outputs = model(inputs)\n",
        "        loss = criterion(outputs.transpose(1, 2), targets)\n",
        "        loss.backward()\n",
        "        optimizer.step()\n",
        "        running_loss += loss.item()\n",
        "    print(f\"Epoch {epoch+1}/{num_epochs}, Loss: {running_loss}\")"
      ]
    },
    {
      "cell_type": "code",
      "execution_count": 211,
      "metadata": {
        "id": "HI1AOe7ZpYMy"
      },
      "outputs": [],
      "source": [
        "# def generate_title(model, seed_titles, max_length):\n",
        "#     with torch.no_grad():\n",
        "#         for seed_title in seed_titles:\n",
        "#             seed_sequence = [word_to_index[word] for word in seed_title.split()]\n",
        "#             for _ in range(max_length):\n",
        "#                 input_tensor = torch.tensor(seed_sequence).unsqueeze(0).to(device)\n",
        "#                 output = model(input_tensor)\n",
        "#                 predicted_token = torch.argmax(output[:, -1, :], dim=-1)\n",
        "#                 seed_sequence.append(predicted_token.item())\n",
        "#                 if predicted_token.item() == 0:\n",
        "#                     break\n",
        "#             generated_title = ' '.join([index_to_word[index] for index in seed_sequence])\n",
        "#             print(\"Generated Title:\", generated_title)\n",
        "\n",
        "# def generate_title(model, seed_titles, max_length, top_n=5):\n",
        "#     with torch.no_grad():\n",
        "#         for seed_title in seed_titles:\n",
        "#             seed_sequence = [word_to_index[word] for word in seed_title.split()]\n",
        "#             for _ in range(max_length):\n",
        "#                 input_tensor = torch.tensor(seed_sequence).unsqueeze(0).to(device)\n",
        "#                 output = model(input_tensor)\n",
        "#                 last_token_probs = output[:, -1, :]\n",
        "#                 top_n_probs, top_n_indices = torch.topk(last_token_probs, top_n)\n",
        "#                 sampled_index = np.random.choice(top_n_indices.squeeze().cpu().numpy())\n",
        "#                 seed_sequence.append(sampled_index.item())\n",
        "#                 if sampled_index.item() == 0:\n",
        "#                     break\n",
        "#             generated_title = ' '.join([index_to_word[index] for index in seed_sequence])\n",
        "#             print(\"Generated Title:\", generated_title)\n",
        "\n",
        "# def generate_title(model, seed_titles, max_length, top_n=5):\n",
        "#     with torch.no_grad():\n",
        "#         for seed_title in seed_titles:\n",
        "#             seed_sequence = custom_tokenizer.encode(seed_title).ids\n",
        "#             # seed_sequence = [word_to_index[word] for word in seed_title.split()]\n",
        "#             for _ in range(max_length):\n",
        "#                 input_tensor = torch.tensor(seed_sequence).unsqueeze(0).to(device)\n",
        "#                 output = model(input_tensor)\n",
        "#                 last_token_probs = output[:, -1, :]\n",
        "#                 top_n_probs, top_n_indices = torch.topk(last_token_probs, top_n)\n",
        "#                 sampled_index = np.random.choice(top_n_indices.squeeze().cpu().numpy())\n",
        "#                 seed_sequence.append(sampled_index.item())\n",
        "#                 if sampled_index.item() == 0:\n",
        "#                     break\n",
        "#             # generated_title = ' '.join([index_to_word[index] for index in seed_sequence])\n",
        "#             generated_title = custom_tokenizer.decode(seed_sequence)\n",
        "#             generated_title\n",
        "#             print(\"Generated Title:\", generated_title)\n",
        "\n",
        "def generate_title(model, seed_titles, max_length, top_n=5):\n",
        "    with torch.no_grad():\n",
        "        for seed_title in seed_titles:\n",
        "            seed_sequence = custom_tokenizer.encode(seed_title).ids\n",
        "            # print(seed_sequence)\n",
        "            # seed_sequence = [word_to_index[word] for word in seed_title.split()]\n",
        "            for _ in range(max_length):\n",
        "                input_tensor = torch.tensor(seed_sequence).unsqueeze(0).to(device)\n",
        "                output = model(input_tensor)\n",
        "                last_token_probs = output[:, -1, :]\n",
        "                top_n_probs, top_n_indices = torch.topk(last_token_probs, top_n)\n",
        "                sampled_index = np.random.choice(top_n_indices.squeeze().cpu().numpy())\n",
        "                sampled_token = custom_tokenizer.decode([sampled_index.item()])\n",
        "                # print(sampled_token)\n",
        "                # Check if sampled token is a subword and concatenate with previous word\n",
        "                if sampled_token.startswith(\"##\") and len(seed_sequence) > 0:\n",
        "                    # Remove \"##\" prefix and concatenate with previous token\n",
        "                    combined_token = custom_tokenizer.decode([seed_sequence[-1]]) + sampled_token[2:]\n",
        "                    # Replace the last token with the combined token\n",
        "                    seed_sequence[-1] = custom_tokenizer.encode(combined_token).ids[0]\n",
        "                else:\n",
        "                    seed_sequence.append(sampled_index.item())\n",
        "                if sampled_index.item() == 0:\n",
        "                    break\n",
        "            generated_title = custom_tokenizer.decode(seed_sequence)\n",
        "            generated_title = generated_title.split()\n",
        "            final_title = \"\"\n",
        "            for i in range(len(generated_title)):\n",
        "              if generated_title[i].startswith(\"##\") and len(generated_title) > 0:\n",
        "                combined_token = generated_title[i-1] + generated_title[i][2:]\n",
        "                final_title = final_title[:-len(generated_title[i-1])]\n",
        "                final_title += \" \" + combined_token\n",
        "              else:\n",
        "                final_title += \" \" + generated_title[i]\n",
        "            print(\"Generated Title:\", final_title.strip())\n",
        "            # return final_title"
      ]
    },
    {
      "cell_type": "code",
      "source": [
        "# custom_tokenizer.encode('Adventures').ids\n",
        "# custom_tokenizer.decode([2654, 339])"
      ],
      "metadata": {
        "id": "B_xMXmNFifUz"
      },
      "execution_count": 212,
      "outputs": []
    },
    {
      "cell_type": "code",
      "execution_count": 231,
      "metadata": {
        "colab": {
          "base_uri": "https://localhost:8080/"
        },
        "id": "YrVsPpnVpYKY",
        "outputId": "bd5c5ddb-2790-4de3-82f1-5151e6dfafd8"
      },
      "outputs": [
        {
          "output_type": "stream",
          "name": "stdout",
          "text": [
            "Generated Title: Super Mario USA Bros. 2 Adventures\n",
            "Generated Title: Master of Dino Ri\n",
            "Generated Title: Boys 2: War of Lolo 2 &\n",
            "Generated Title: Wink Heroes Super\n",
            "Generated Title: Legend Challenge Part\n",
            "Generated Title: Crash 'n\n",
            "Generated Title: Mermaid and the Lost Word of Em\n",
            "Generated Title: Dragon Quest II: Return King\n",
            "Generated Title: Buster II Moero!! '90 Senshi\n",
            "Generated Title: Blob Soccer II:\n",
            "Generated Title: Mario Bros. Part 3 2 Atlantis Hero\n",
            "Generated Title: Danger\n",
            "Generated Title: Duck Little Magic 2 Super Baseball 3\n",
            "Generated Title: Crazy Animal II: Vict Trouble in Wacky\n",
            "Generated Title: Chinese Night '90\n",
            "Generated Title: Ninja Gaiden II\n",
            "Generated Title: Kirby & Light Genghis Ikari Warriors Ikari\n"
          ]
        }
      ],
      "source": [
        "# Seed titles for generation\n",
        "seed_titles = [\"Super\", \"Master of\", \"Boys\", 'Wink', \"Legend\", 'Crash',\n",
        "               'Mermaid and the Lost', 'Dragon Quest', \"Buster\",\n",
        "               \"Blob\", \"Mario\", 'Danger', 'Duck', 'Crazy', 'Chinese', \"Ninja\", 'Kirby']\n",
        "# seed_titles = ['Jerry']\n",
        "\n",
        "# Generate title variations\n",
        "generate_title(model, seed_titles, max_length=6, top_n=5)"
      ]
    },
    {
      "cell_type": "code",
      "source": [
        "model"
      ],
      "metadata": {
        "colab": {
          "base_uri": "https://localhost:8080/"
        },
        "id": "kDTC2dtYoCDd",
        "outputId": "bc7bb045-7c60-43c3-d6cf-d4b35d510582"
      },
      "execution_count": 214,
      "outputs": [
        {
          "output_type": "execute_result",
          "data": {
            "text/plain": [
              "LSTMModel(\n",
              "  (embedding): Embedding(4000, 512)\n",
              "  (lstm): LSTM(512, 100, batch_first=True)\n",
              "  (fc): Linear(in_features=100, out_features=4000, bias=True)\n",
              ")"
            ]
          },
          "metadata": {},
          "execution_count": 214
        }
      ]
    },
    {
      "cell_type": "code",
      "source": [],
      "metadata": {
        "id": "v7QfM9k1phKD"
      },
      "execution_count": null,
      "outputs": []
    }
  ],
  "metadata": {
    "accelerator": "GPU",
    "colab": {
      "gpuType": "T4",
      "provenance": [],
      "include_colab_link": true
    },
    "kernelspec": {
      "display_name": "Python 3",
      "name": "python3"
    },
    "language_info": {
      "codemirror_mode": {
        "name": "ipython",
        "version": 3
      },
      "file_extension": ".py",
      "mimetype": "text/x-python",
      "name": "python",
      "nbconvert_exporter": "python",
      "pygments_lexer": "ipython3",
      "version": "3.9.13"
    }
  },
  "nbformat": 4,
  "nbformat_minor": 0
}