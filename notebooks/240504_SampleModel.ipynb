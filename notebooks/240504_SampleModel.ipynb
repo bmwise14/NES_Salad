{
  "nbformat": 4,
  "nbformat_minor": 0,
  "metadata": {
    "colab": {
      "provenance": [],
      "gpuType": "T4",
      "authorship_tag": "ABX9TyOAwYX7mRnOJaUk2wvd6B2q",
      "include_colab_link": true
    },
    "kernelspec": {
      "name": "python3",
      "display_name": "Python 3"
    },
    "language_info": {
      "name": "python"
    },
    "accelerator": "GPU"
  },
  "cells": [
    {
      "cell_type": "markdown",
      "metadata": {
        "id": "view-in-github",
        "colab_type": "text"
      },
      "source": [
        "<a href=\"https://colab.research.google.com/github/bmwise14/NES_Salad/blob/main/240504_SampleModel.ipynb\" target=\"_parent\"><img src=\"https://colab.research.google.com/assets/colab-badge.svg\" alt=\"Open In Colab\"/></a>"
      ]
    },
    {
      "cell_type": "code",
      "source": [
        "import numpy as np\n",
        "import torch\n",
        "import torch.nn as nn\n",
        "import torch.optim as optim\n",
        "from torch.utils.data import Dataset, DataLoader\n",
        "from torch.nn.utils.rnn import pad_sequence\n",
        "import pandas as pd"
      ],
      "metadata": {
        "id": "Loe0wgGRm6tq"
      },
      "execution_count": null,
      "outputs": []
    },
    {
      "cell_type": "code",
      "source": [
        "device = torch.device(\"cuda\" if torch.cuda.is_available() else \"cpu\")\n",
        "device"
      ],
      "metadata": {
        "colab": {
          "base_uri": "https://localhost:8080/"
        },
        "id": "srqis7rooyW7",
        "outputId": "5a7db18f-0ea4-4530-e1da-7318a5370d23"
      },
      "execution_count": null,
      "outputs": [
        {
          "output_type": "execute_result",
          "data": {
            "text/plain": [
              "device(type='cuda')"
            ]
          },
          "metadata": {},
          "execution_count": 2
        }
      ]
    },
    {
      "cell_type": "code",
      "source": [
        "# Upload the sp500.csv file\n",
        "from google.colab import files\n",
        "uploaded = files.upload()"
      ],
      "metadata": {
        "colab": {
          "base_uri": "https://localhost:8080/",
          "height": 74
        },
        "id": "qnB6ezyGr2Pg",
        "outputId": "2d396eef-0150-4f1d-c072-8a465e299c15"
      },
      "execution_count": null,
      "outputs": [
        {
          "output_type": "display_data",
          "data": {
            "text/plain": [
              "<IPython.core.display.HTML object>"
            ],
            "text/html": [
              "\n",
              "     <input type=\"file\" id=\"files-b321dce1-0de9-48b6-a6f0-b2f8c81ec43c\" name=\"files[]\" multiple disabled\n",
              "        style=\"border:none\" />\n",
              "     <output id=\"result-b321dce1-0de9-48b6-a6f0-b2f8c81ec43c\">\n",
              "      Upload widget is only available when the cell has been executed in the\n",
              "      current browser session. Please rerun this cell to enable.\n",
              "      </output>\n",
              "      <script>// Copyright 2017 Google LLC\n",
              "//\n",
              "// Licensed under the Apache License, Version 2.0 (the \"License\");\n",
              "// you may not use this file except in compliance with the License.\n",
              "// You may obtain a copy of the License at\n",
              "//\n",
              "//      http://www.apache.org/licenses/LICENSE-2.0\n",
              "//\n",
              "// Unless required by applicable law or agreed to in writing, software\n",
              "// distributed under the License is distributed on an \"AS IS\" BASIS,\n",
              "// WITHOUT WARRANTIES OR CONDITIONS OF ANY KIND, either express or implied.\n",
              "// See the License for the specific language governing permissions and\n",
              "// limitations under the License.\n",
              "\n",
              "/**\n",
              " * @fileoverview Helpers for google.colab Python module.\n",
              " */\n",
              "(function(scope) {\n",
              "function span(text, styleAttributes = {}) {\n",
              "  const element = document.createElement('span');\n",
              "  element.textContent = text;\n",
              "  for (const key of Object.keys(styleAttributes)) {\n",
              "    element.style[key] = styleAttributes[key];\n",
              "  }\n",
              "  return element;\n",
              "}\n",
              "\n",
              "// Max number of bytes which will be uploaded at a time.\n",
              "const MAX_PAYLOAD_SIZE = 100 * 1024;\n",
              "\n",
              "function _uploadFiles(inputId, outputId) {\n",
              "  const steps = uploadFilesStep(inputId, outputId);\n",
              "  const outputElement = document.getElementById(outputId);\n",
              "  // Cache steps on the outputElement to make it available for the next call\n",
              "  // to uploadFilesContinue from Python.\n",
              "  outputElement.steps = steps;\n",
              "\n",
              "  return _uploadFilesContinue(outputId);\n",
              "}\n",
              "\n",
              "// This is roughly an async generator (not supported in the browser yet),\n",
              "// where there are multiple asynchronous steps and the Python side is going\n",
              "// to poll for completion of each step.\n",
              "// This uses a Promise to block the python side on completion of each step,\n",
              "// then passes the result of the previous step as the input to the next step.\n",
              "function _uploadFilesContinue(outputId) {\n",
              "  const outputElement = document.getElementById(outputId);\n",
              "  const steps = outputElement.steps;\n",
              "\n",
              "  const next = steps.next(outputElement.lastPromiseValue);\n",
              "  return Promise.resolve(next.value.promise).then((value) => {\n",
              "    // Cache the last promise value to make it available to the next\n",
              "    // step of the generator.\n",
              "    outputElement.lastPromiseValue = value;\n",
              "    return next.value.response;\n",
              "  });\n",
              "}\n",
              "\n",
              "/**\n",
              " * Generator function which is called between each async step of the upload\n",
              " * process.\n",
              " * @param {string} inputId Element ID of the input file picker element.\n",
              " * @param {string} outputId Element ID of the output display.\n",
              " * @return {!Iterable<!Object>} Iterable of next steps.\n",
              " */\n",
              "function* uploadFilesStep(inputId, outputId) {\n",
              "  const inputElement = document.getElementById(inputId);\n",
              "  inputElement.disabled = false;\n",
              "\n",
              "  const outputElement = document.getElementById(outputId);\n",
              "  outputElement.innerHTML = '';\n",
              "\n",
              "  const pickedPromise = new Promise((resolve) => {\n",
              "    inputElement.addEventListener('change', (e) => {\n",
              "      resolve(e.target.files);\n",
              "    });\n",
              "  });\n",
              "\n",
              "  const cancel = document.createElement('button');\n",
              "  inputElement.parentElement.appendChild(cancel);\n",
              "  cancel.textContent = 'Cancel upload';\n",
              "  const cancelPromise = new Promise((resolve) => {\n",
              "    cancel.onclick = () => {\n",
              "      resolve(null);\n",
              "    };\n",
              "  });\n",
              "\n",
              "  // Wait for the user to pick the files.\n",
              "  const files = yield {\n",
              "    promise: Promise.race([pickedPromise, cancelPromise]),\n",
              "    response: {\n",
              "      action: 'starting',\n",
              "    }\n",
              "  };\n",
              "\n",
              "  cancel.remove();\n",
              "\n",
              "  // Disable the input element since further picks are not allowed.\n",
              "  inputElement.disabled = true;\n",
              "\n",
              "  if (!files) {\n",
              "    return {\n",
              "      response: {\n",
              "        action: 'complete',\n",
              "      }\n",
              "    };\n",
              "  }\n",
              "\n",
              "  for (const file of files) {\n",
              "    const li = document.createElement('li');\n",
              "    li.append(span(file.name, {fontWeight: 'bold'}));\n",
              "    li.append(span(\n",
              "        `(${file.type || 'n/a'}) - ${file.size} bytes, ` +\n",
              "        `last modified: ${\n",
              "            file.lastModifiedDate ? file.lastModifiedDate.toLocaleDateString() :\n",
              "                                    'n/a'} - `));\n",
              "    const percent = span('0% done');\n",
              "    li.appendChild(percent);\n",
              "\n",
              "    outputElement.appendChild(li);\n",
              "\n",
              "    const fileDataPromise = new Promise((resolve) => {\n",
              "      const reader = new FileReader();\n",
              "      reader.onload = (e) => {\n",
              "        resolve(e.target.result);\n",
              "      };\n",
              "      reader.readAsArrayBuffer(file);\n",
              "    });\n",
              "    // Wait for the data to be ready.\n",
              "    let fileData = yield {\n",
              "      promise: fileDataPromise,\n",
              "      response: {\n",
              "        action: 'continue',\n",
              "      }\n",
              "    };\n",
              "\n",
              "    // Use a chunked sending to avoid message size limits. See b/62115660.\n",
              "    let position = 0;\n",
              "    do {\n",
              "      const length = Math.min(fileData.byteLength - position, MAX_PAYLOAD_SIZE);\n",
              "      const chunk = new Uint8Array(fileData, position, length);\n",
              "      position += length;\n",
              "\n",
              "      const base64 = btoa(String.fromCharCode.apply(null, chunk));\n",
              "      yield {\n",
              "        response: {\n",
              "          action: 'append',\n",
              "          file: file.name,\n",
              "          data: base64,\n",
              "        },\n",
              "      };\n",
              "\n",
              "      let percentDone = fileData.byteLength === 0 ?\n",
              "          100 :\n",
              "          Math.round((position / fileData.byteLength) * 100);\n",
              "      percent.textContent = `${percentDone}% done`;\n",
              "\n",
              "    } while (position < fileData.byteLength);\n",
              "  }\n",
              "\n",
              "  // All done.\n",
              "  yield {\n",
              "    response: {\n",
              "      action: 'complete',\n",
              "    }\n",
              "  };\n",
              "}\n",
              "\n",
              "scope.google = scope.google || {};\n",
              "scope.google.colab = scope.google.colab || {};\n",
              "scope.google.colab._files = {\n",
              "  _uploadFiles,\n",
              "  _uploadFilesContinue,\n",
              "};\n",
              "})(self);\n",
              "</script> "
            ]
          },
          "metadata": {}
        },
        {
          "output_type": "stream",
          "name": "stdout",
          "text": [
            "Saving nes_titles.csv to nes_titles.csv\n"
          ]
        }
      ]
    },
    {
      "cell_type": "code",
      "source": [
        "df = pd.read_csv(\"nes_titles.csv\")\n",
        "game_titles = list(df['Title'])"
      ],
      "metadata": {
        "id": "-Lr7lBpvr9LU"
      },
      "execution_count": null,
      "outputs": []
    },
    {
      "cell_type": "code",
      "source": [
        "# Tokenize the game titles\n",
        "word_to_index = {}\n",
        "index_to_word = {}\n",
        "for title in game_titles:\n",
        "    for word in title.split():\n",
        "        if word not in word_to_index:\n",
        "            index = len(word_to_index)\n",
        "            word_to_index[word] = index\n",
        "            index_to_word[index] = word\n",
        "\n",
        "# Convert titles to sequences of tokens\n",
        "sequences = [[word_to_index[word] for word in title.split()] for title in game_titles]\n",
        "\n",
        "# Pad sequences to ensure equal length\n",
        "max_seq_length = max(len(seq) for seq in sequences)\n",
        "padded_sequences = [torch.tensor(seq) for seq in sequences]\n",
        "padded_sequences = pad_sequence(padded_sequences, batch_first=True)"
      ],
      "metadata": {
        "id": "nLhnfW7PoZih"
      },
      "execution_count": null,
      "outputs": []
    },
    {
      "cell_type": "code",
      "source": [
        "len(word_to_index)"
      ],
      "metadata": {
        "colab": {
          "base_uri": "https://localhost:8080/"
        },
        "id": "V2F5-FwQpb-3",
        "outputId": "bf2472d1-9d9d-4c4e-cb9a-c5897c3e2ca8"
      },
      "execution_count": null,
      "outputs": [
        {
          "output_type": "execute_result",
          "data": {
            "text/plain": [
              "2710"
            ]
          },
          "metadata": {},
          "execution_count": 22
        }
      ]
    },
    {
      "cell_type": "markdown",
      "source": [
        "# Pytorch"
      ],
      "metadata": {
        "id": "iIwsR5lApqKp"
      }
    },
    {
      "cell_type": "code",
      "source": [
        "# Define dataset and dataloader\n",
        "class TitlesDataset(Dataset):\n",
        "    def __init__(self, sequences):\n",
        "        self.sequences = sequences\n",
        "\n",
        "    def __len__(self):\n",
        "        return len(self.sequences)\n",
        "\n",
        "    def __getitem__(self, idx):\n",
        "        return self.sequences[idx, :-1], self.sequences[idx, 1:]\n",
        "\n",
        "dataset = TitlesDataset(padded_sequences)\n",
        "dataloader = DataLoader(dataset, batch_size=6, shuffle=True)"
      ],
      "metadata": {
        "id": "ytoQALjRoV3f"
      },
      "execution_count": null,
      "outputs": []
    },
    {
      "cell_type": "code",
      "source": [
        "# Define LSTM model architecture\n",
        "class LSTMModel(nn.Module):\n",
        "    def __init__(self, vocab_size, embedding_dim, hidden_dim):\n",
        "        super(LSTMModel, self).__init__()\n",
        "        self.embedding = nn.Embedding(vocab_size, embedding_dim)\n",
        "        self.lstm = nn.LSTM(embedding_dim, hidden_dim, batch_first=True)\n",
        "        self.fc = nn.Linear(hidden_dim, vocab_size)\n",
        "\n",
        "    def forward(self, x):\n",
        "        embedded = self.embedding(x)\n",
        "        output, _ = self.lstm(embedded)\n",
        "        output = self.fc(output)\n",
        "        return output"
      ],
      "metadata": {
        "id": "0YlGq6DaoWVs"
      },
      "execution_count": null,
      "outputs": []
    },
    {
      "cell_type": "code",
      "source": [
        "# Define hyperparameters\n",
        "vocab_size = len(word_to_index)\n",
        "embedding_dim = 512\n",
        "hidden_dim = 100\n",
        "num_epochs = 100"
      ],
      "metadata": {
        "id": "8sFX_lpzpWyi"
      },
      "execution_count": null,
      "outputs": []
    },
    {
      "cell_type": "code",
      "source": [
        "# Initialize model, loss function, and optimizer\n",
        "device = torch.device(\"cuda\" if torch.cuda.is_available() else \"cpu\")\n",
        "model = LSTMModel(vocab_size, embedding_dim, hidden_dim).to(device)\n",
        "criterion = nn.CrossEntropyLoss()\n",
        "optimizer = optim.Adam(model.parameters(), lr=0.001)"
      ],
      "metadata": {
        "id": "_LvYB6X-pYRe"
      },
      "execution_count": null,
      "outputs": []
    },
    {
      "cell_type": "code",
      "source": [
        "# Train the model\n",
        "for epoch in range(num_epochs):\n",
        "    running_loss = 0.0\n",
        "    for inputs, targets in dataloader:\n",
        "        inputs, targets = inputs.to(device), targets.to(device)\n",
        "        optimizer.zero_grad()\n",
        "        outputs = model(inputs)\n",
        "        loss = criterion(outputs.transpose(1, 2), targets)\n",
        "        loss.backward()\n",
        "        optimizer.step()\n",
        "        running_loss += loss.item()\n",
        "    print(f\"Epoch {epoch+1}/{num_epochs}, Loss: {running_loss}\")"
      ],
      "metadata": {
        "colab": {
          "base_uri": "https://localhost:8080/"
        },
        "id": "IYi8-XDGpYPR",
        "outputId": "86cf0fce-44bb-41bb-f893-3ca2481a9d5f"
      },
      "execution_count": null,
      "outputs": [
        {
          "output_type": "stream",
          "name": "stdout",
          "text": [
            "Epoch 1/100, Loss: 390.63046169281006\n",
            "Epoch 2/100, Loss: 244.49286526441574\n",
            "Epoch 3/100, Loss: 214.48400661349297\n",
            "Epoch 4/100, Loss: 187.66015687584877\n",
            "Epoch 5/100, Loss: 161.30525560677052\n",
            "Epoch 6/100, Loss: 135.68534918129444\n",
            "Epoch 7/100, Loss: 111.12115539610386\n",
            "Epoch 8/100, Loss: 89.05245089530945\n",
            "Epoch 9/100, Loss: 69.68471380323172\n",
            "Epoch 10/100, Loss: 54.260032491758466\n",
            "Epoch 11/100, Loss: 43.05357524752617\n",
            "Epoch 12/100, Loss: 35.280125848948956\n",
            "Epoch 13/100, Loss: 30.034081391990185\n",
            "Epoch 14/100, Loss: 26.143187245354056\n",
            "Epoch 15/100, Loss: 23.141496011056006\n",
            "Epoch 16/100, Loss: 20.867516248486936\n",
            "Epoch 17/100, Loss: 18.987366657704115\n",
            "Epoch 18/100, Loss: 17.55054520815611\n",
            "Epoch 19/100, Loss: 16.20929110608995\n",
            "Epoch 20/100, Loss: 15.263709285878576\n",
            "Epoch 21/100, Loss: 14.430420184507966\n",
            "Epoch 22/100, Loss: 13.83391175745055\n",
            "Epoch 23/100, Loss: 13.332712145522237\n",
            "Epoch 24/100, Loss: 12.859432470751926\n",
            "Epoch 25/100, Loss: 12.468856894178316\n",
            "Epoch 26/100, Loss: 12.147306252270937\n",
            "Epoch 27/100, Loss: 11.799209935357794\n",
            "Epoch 28/100, Loss: 11.599655999103561\n",
            "Epoch 29/100, Loss: 11.393119777203538\n",
            "Epoch 30/100, Loss: 11.241427708126139\n",
            "Epoch 31/100, Loss: 11.106669226195663\n",
            "Epoch 32/100, Loss: 11.017406115483027\n",
            "Epoch 33/100, Loss: 10.934635997517034\n",
            "Epoch 34/100, Loss: 10.799894047842827\n",
            "Epoch 35/100, Loss: 10.794985840562731\n",
            "Epoch 36/100, Loss: 10.747507818974555\n",
            "Epoch 37/100, Loss: 10.741193018388003\n",
            "Epoch 38/100, Loss: 10.781672537268605\n",
            "Epoch 39/100, Loss: 10.70384929800639\n",
            "Epoch 40/100, Loss: 10.65275713702431\n",
            "Epoch 41/100, Loss: 10.454776303784456\n",
            "Epoch 42/100, Loss: 10.366743454709649\n",
            "Epoch 43/100, Loss: 10.335867943707854\n",
            "Epoch 44/100, Loss: 10.270366174459923\n",
            "Epoch 45/100, Loss: 10.160875775385648\n",
            "Epoch 46/100, Loss: 10.114626291004242\n",
            "Epoch 47/100, Loss: 10.065786436811322\n",
            "Epoch 48/100, Loss: 10.031208641754347\n",
            "Epoch 49/100, Loss: 10.015845717978664\n",
            "Epoch 50/100, Loss: 9.998447292833589\n",
            "Epoch 51/100, Loss: 9.976460306788795\n",
            "Epoch 52/100, Loss: 9.956737907043134\n",
            "Epoch 53/100, Loss: 9.9352479540903\n",
            "Epoch 54/100, Loss: 9.994068695945316\n",
            "Epoch 55/100, Loss: 9.9173604886455\n",
            "Epoch 56/100, Loss: 9.921685518624145\n",
            "Epoch 57/100, Loss: 9.958851809904445\n",
            "Epoch 58/100, Loss: 10.049098178657005\n",
            "Epoch 59/100, Loss: 10.020214063551975\n",
            "Epoch 60/100, Loss: 10.024748394542257\n",
            "Epoch 61/100, Loss: 9.85265233044629\n",
            "Epoch 62/100, Loss: 9.810537944897078\n",
            "Epoch 63/100, Loss: 9.77769024650479\n",
            "Epoch 64/100, Loss: 9.770029220613651\n",
            "Epoch 65/100, Loss: 9.725882462473237\n",
            "Epoch 66/100, Loss: 9.693017511475773\n",
            "Epoch 67/100, Loss: 9.700273083086358\n",
            "Epoch 68/100, Loss: 9.734596247835725\n",
            "Epoch 69/100, Loss: 9.710741050526849\n",
            "Epoch 70/100, Loss: 9.739786932961579\n",
            "Epoch 71/100, Loss: 9.719372895495326\n",
            "Epoch 72/100, Loss: 9.695059718707853\n",
            "Epoch 73/100, Loss: 9.651915143468614\n",
            "Epoch 74/100, Loss: 9.634203036119288\n",
            "Epoch 75/100, Loss: 9.616767503131996\n",
            "Epoch 76/100, Loss: 9.643581287098641\n",
            "Epoch 77/100, Loss: 9.630973583538434\n",
            "Epoch 78/100, Loss: 9.656725975783047\n",
            "Epoch 79/100, Loss: 9.649258502045996\n",
            "Epoch 80/100, Loss: 9.634759139142261\n",
            "Epoch 81/100, Loss: 9.64152578537687\n",
            "Epoch 82/100, Loss: 9.68998557210216\n",
            "Epoch 83/100, Loss: 9.825316678150557\n",
            "Epoch 84/100, Loss: 9.97405422587326\n",
            "Epoch 85/100, Loss: 9.905913236625565\n",
            "Epoch 86/100, Loss: 9.850815902051181\n",
            "Epoch 87/100, Loss: 9.729908321061885\n",
            "Epoch 88/100, Loss: 9.67898730035813\n",
            "Epoch 89/100, Loss: 9.662469524806511\n",
            "Epoch 90/100, Loss: 9.656635991388612\n",
            "Epoch 91/100, Loss: 9.624077037498864\n",
            "Epoch 92/100, Loss: 9.608616240067931\n",
            "Epoch 93/100, Loss: 9.608026739076195\n",
            "Epoch 94/100, Loss: 9.617351378718013\n",
            "Epoch 95/100, Loss: 9.578116174770912\n",
            "Epoch 96/100, Loss: 9.602631475156159\n",
            "Epoch 97/100, Loss: 9.600039593064139\n",
            "Epoch 98/100, Loss: 9.629897644937955\n",
            "Epoch 99/100, Loss: 9.659727794034552\n",
            "Epoch 100/100, Loss: 9.685521235719534\n"
          ]
        }
      ]
    },
    {
      "cell_type": "code",
      "source": [
        "# def generate_title(model, seed_titles, max_length):\n",
        "#     with torch.no_grad():\n",
        "#         for seed_title in seed_titles:\n",
        "#             seed_sequence = [word_to_index[word] for word in seed_title.split()]\n",
        "#             for _ in range(max_length):\n",
        "#                 input_tensor = torch.tensor(seed_sequence).unsqueeze(0).to(device)\n",
        "#                 output = model(input_tensor)\n",
        "#                 predicted_token = torch.argmax(output[:, -1, :], dim=-1)\n",
        "#                 seed_sequence.append(predicted_token.item())\n",
        "#                 if predicted_token.item() == 0:\n",
        "#                     break\n",
        "#             generated_title = ' '.join([index_to_word[index] for index in seed_sequence])\n",
        "#             print(\"Generated Title:\", generated_title)\n",
        "\n",
        "def generate_title(model, seed_titles, max_length, top_n=5):\n",
        "    with torch.no_grad():\n",
        "        for seed_title in seed_titles:\n",
        "            seed_sequence = [word_to_index[word] for word in seed_title.split()]\n",
        "            for _ in range(max_length):\n",
        "                input_tensor = torch.tensor(seed_sequence).unsqueeze(0).to(device)\n",
        "                output = model(input_tensor)\n",
        "                last_token_probs = output[:, -1, :]\n",
        "                top_n_probs, top_n_indices = torch.topk(last_token_probs, top_n)\n",
        "                sampled_index = np.random.choice(top_n_indices.squeeze().cpu().numpy())\n",
        "                seed_sequence.append(sampled_index.item())\n",
        "                if sampled_index.item() == 0:\n",
        "                    break\n",
        "            generated_title = ' '.join([index_to_word[index] for index in seed_sequence])\n",
        "            print(\"Generated Title:\", generated_title)\n"
      ],
      "metadata": {
        "id": "HI1AOe7ZpYMy"
      },
      "execution_count": null,
      "outputs": []
    },
    {
      "cell_type": "code",
      "source": [
        "# Seed titles for generation\n",
        "seed_titles = [\"Adventures\", \"Die\", \"Boy\", 'Tom', \"Zelda\", 'Mermaid', 'Jerry', 'Dragon']\n",
        "\n",
        "# Generate title variations\n",
        "generate_title(model, seed_titles, max_length=8)"
      ],
      "metadata": {
        "colab": {
          "base_uri": "https://localhost:8080/"
        },
        "id": "YrVsPpnVpYKY",
        "outputId": "3234e1c9-53f8-416b-ca6f-82c5dbf6b327"
      },
      "execution_count": null,
      "outputs": [
        {
          "output_type": "stream",
          "name": "stdout",
          "text": [
            "Generated Title: Adventures 2: The Magic Kingdom Off 2: Ninja '89\n",
            "Generated Title: Die Shanghai II II: The Demon Darkness '92 Red\n",
            "Generated Title: Boy and 5 Nin Uchi 2 + '89\n",
            "Generated Title: Tom Ball Z '89\n",
            "Generated Title: Zelda Adventure Island 3 Takahashi Igo '89\n",
            "Generated Title: Mermaid Kid Kool Nekketsu Kimi 2: The New Jump\n",
            "Generated Title: Jerry 2 Dennou Kyuusei no DaiboukenJP II '89\n",
            "Generated Title: Dragon Buster '89\n"
          ]
        }
      ]
    }
  ]
}