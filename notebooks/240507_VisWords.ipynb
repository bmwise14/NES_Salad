{
 "cells": [
  {
   "cell_type": "code",
   "execution_count": 1,
   "metadata": {},
   "outputs": [
    {
     "name": "stderr",
     "output_type": "stream",
     "text": [
      "/Users/bradleywise/Envs/nes_salad/lib/python3.9/site-packages/tqdm/auto.py:21: TqdmWarning: IProgress not found. Please update jupyter and ipywidgets. See https://ipywidgets.readthedocs.io/en/stable/user_install.html\n",
      "  from .autonotebook import tqdm as notebook_tqdm\n"
     ]
    }
   ],
   "source": [
    "from transformers import BertModel, BertTokenizer\n",
    "import numpy as np\n",
    "from sklearn.manifold import TSNE\n",
    "import pandas as pd\n",
    "import torch\n",
    "import plotly.express as px\n",
    "\n",
    "\n",
    "# import hvplot.pandas\n",
    "# import holoviews as hv\n",
    "\n",
    "# from holoviews import dim, opts\n",
    "\n",
    "# hv.extension('matplotlib')"
   ]
  },
  {
   "cell_type": "code",
   "execution_count": 4,
   "metadata": {},
   "outputs": [],
   "source": [
    "titles = pd.read_csv(\"../data/nes_titles.csv\")['Title']"
   ]
  },
  {
   "cell_type": "code",
   "execution_count": 5,
   "metadata": {},
   "outputs": [],
   "source": [
    "word_to_index = {}\n",
    "index_to_word = {}\n",
    "for title in titles:\n",
    "    for word in title.split():\n",
    "        if word not in word_to_index:\n",
    "            index = len(word_to_index)\n",
    "            word_to_index[word] = index\n",
    "            index_to_word[index] = word\n",
    "words = list(word_to_index.keys())"
   ]
  },
  {
   "cell_type": "markdown",
   "metadata": {
    "heading_collapsed": true
   },
   "source": [
    "### Initial Tokenization Embedding"
   ]
  },
  {
   "cell_type": "code",
   "execution_count": 13,
   "metadata": {
    "hidden": true
   },
   "outputs": [
    {
     "name": "stderr",
     "output_type": "stream",
     "text": [
      "/Users/bradleywise/Envs/nes_salad/lib/python3.9/site-packages/huggingface_hub/file_download.py:1132: FutureWarning:\n",
      "\n",
      "`resume_download` is deprecated and will be removed in version 1.0.0. Downloads always resume when possible. If you want to force a new download, use `force_download=True`.\n",
      "\n"
     ]
    }
   ],
   "source": [
    "# Load pre-trained BERT model and tokenizer\n",
    "model_name = 'bert-base-uncased'\n",
    "tokenizer = BertTokenizer.from_pretrained(model_name)\n",
    "model = BertModel.from_pretrained(model_name)"
   ]
  },
  {
   "cell_type": "code",
   "execution_count": 14,
   "metadata": {
    "hidden": true
   },
   "outputs": [],
   "source": [
    "# Select words you want to visualize\n",
    "# words = ['king', 'queen', 'man', 'woman', 'doctor', 'nurse']\n",
    "words = list(word_to_index.keys())\n",
    "\n",
    "# Extract word embeddings\n",
    "word_embeddings = []\n",
    "for word in words:\n",
    "    inputs = tokenizer(word, return_tensors='pt')\n",
    "    with torch.no_grad():\n",
    "        outputs = model(**inputs)\n",
    "    embeddings = outputs.last_hidden_state.mean(dim=1).squeeze().numpy()\n",
    "    word_embeddings.append(embeddings)\n",
    "\n",
    "word_embeddings = np.array(word_embeddings)"
   ]
  },
  {
   "cell_type": "code",
   "execution_count": 15,
   "metadata": {
    "hidden": true
   },
   "outputs": [
    {
     "data": {
      "text/plain": [
       "(2710, 768)"
      ]
     },
     "execution_count": 15,
     "metadata": {},
     "output_type": "execute_result"
    }
   ],
   "source": [
    "word_embeddings.shape"
   ]
  },
  {
   "cell_type": "code",
   "execution_count": 16,
   "metadata": {
    "hidden": true
   },
   "outputs": [],
   "source": [
    "with open('../data/BERT_embeddings.npy', 'wb') as f:\n",
    "    np.save(f, word_embeddings)"
   ]
  },
  {
   "cell_type": "markdown",
   "metadata": {},
   "source": [
    "### Preloaded"
   ]
  },
  {
   "cell_type": "code",
   "execution_count": 6,
   "metadata": {},
   "outputs": [
    {
     "data": {
      "text/plain": [
       "(2710, 768)"
      ]
     },
     "execution_count": 6,
     "metadata": {},
     "output_type": "execute_result"
    }
   ],
   "source": [
    "word_embeddings = np.load('../data/BERT_embeddings.npy')\n",
    "word_embeddings.shape"
   ]
  },
  {
   "cell_type": "code",
   "execution_count": 10,
   "metadata": {},
   "outputs": [
    {
     "name": "stderr",
     "output_type": "stream",
     "text": [
      "/Users/bradleywise/Envs/nes_salad/lib/python3.9/site-packages/threadpoolctl.py:1214: RuntimeWarning: \n",
      "Found Intel OpenMP ('libiomp') and LLVM OpenMP ('libomp') loaded at\n",
      "the same time. Both libraries are known to be incompatible and this\n",
      "can cause random crashes or deadlocks on Linux when loaded in the\n",
      "same Python program.\n",
      "Using threadpoolctl may cause crashes or deadlocks. For more\n",
      "information and possible workarounds, please see\n",
      "    https://github.com/joblib/threadpoolctl/blob/master/multiple_openmp.md\n",
      "\n",
      "  warnings.warn(msg, RuntimeWarning)\n"
     ]
    },
    {
     "data": {
      "text/plain": [
       "(2710, 3)"
      ]
     },
     "execution_count": 10,
     "metadata": {},
     "output_type": "execute_result"
    }
   ],
   "source": [
    "# Reduce dimensionality to 3D using t-SNE\n",
    "tsne = TSNE(n_components=3, perplexity=5, random_state=42)\n",
    "word_embeddings_3d = tsne.fit_transform(word_embeddings)\n",
    "word_embeddings_3d.shape"
   ]
  },
  {
   "cell_type": "code",
   "execution_count": 31,
   "metadata": {},
   "outputs": [],
   "source": [
    "shuffled_indices = np.random.permutation(len(words))\n",
    "num_rows_to_sample = 100"
   ]
  },
  {
   "cell_type": "code",
   "execution_count": 32,
   "metadata": {},
   "outputs": [],
   "source": [
    "# Take the first 500 shuffled indices to get the sampled rows and words\n",
    "sampled_rows = word_embeddings_3d[shuffled_indices[:num_rows_to_sample]]\n",
    "sampled_words = [words[i] for i in shuffled_indices[:num_rows_to_sample]]"
   ]
  },
  {
   "cell_type": "code",
   "execution_count": 33,
   "metadata": {},
   "outputs": [
    {
     "name": "stdout",
     "output_type": "stream",
     "text": [
      "(2710, 3)\n",
      "(100, 3)\n"
     ]
    }
   ],
   "source": [
    "print(word_embeddings_3d.shape)\n",
    "print(sampled_rows.shape)"
   ]
  },
  {
   "cell_type": "code",
   "execution_count": 34,
   "metadata": {},
   "outputs": [],
   "source": [
    "# sample_indices = np.random.choice(len(word_embeddings_3d), size=10, replace=False)"
   ]
  },
  {
   "cell_type": "code",
   "execution_count": 35,
   "metadata": {},
   "outputs": [
    {
     "data": {
      "application/vnd.plotly.v1+json": {
       "config": {
        "plotlyServerURL": "https://plot.ly"
       },
       "data": [
        {
         "hovertemplate": "x=%{x}<br>y=%{y}<br>z=%{z}<br>text=%{text}<extra></extra>",
         "legendgroup": "",
         "marker": {
          "color": "#636efa",
          "symbol": "circle"
         },
         "mode": "markers+text",
         "name": "",
         "scene": "scene",
         "showlegend": false,
         "text": [
          "Alien",
          "Elevator",
          "Uncanny",
          "Dream",
          "Caper!",
          "Land:",
          "Fortune:",
          "Eagle:",
          "Rivals",
          "Thieves",
          "Lost",
          "New",
          "Field:",
          "Heracles",
          "Network:",
          "Pikahage",
          "ChikaiJP",
          "Bullwinkle",
          "Rampage",
          "King's",
          "George",
          "Shatterhand",
          "Night",
          "Hyaku",
          "Itchokusen",
          "Watashi",
          "Kun:",
          "Ramen-Man",
          "WCW",
          "Morita",
          "YarouJP",
          "Dengeki",
          "Cars",
          "Sugiyuku",
          "Shissouru",
          "Front",
          "Popeye",
          "Owarai",
          "To",
          "Hiryu",
          "Fuuin",
          "Boulder",
          "Chubby",
          "Aoki",
          "Mansell's",
          "StoryPAL",
          "Scramble",
          "Keiba:",
          "Tori",
          "Shufflepuck",
          "Aerobics",
          "Ski",
          "Bass",
          "Gorby",
          "Meets",
          "Yasashii",
          "Gaiden:",
          "Grand-Prix",
          "Caper",
          "DaishingekiJP",
          "Kimi",
          "Trick",
          "–",
          "Taboo:",
          "Nishiouendan",
          "Time:",
          "Boy",
          "Races",
          "Break",
          "Just",
          "Law",
          "Bujutsu",
          "Jigoku",
          "Bird:",
          "Snake",
          "Maniac",
          "Deburasu",
          "Blader",
          "Dribble",
          "Shanghai",
          "DoropiJP",
          "Booby",
          "Sawyer",
          "SDF",
          "Scrum",
          "Mappy-Land",
          "Dual",
          "(Toki)",
          "Lightning",
          "Doujou",
          "Green",
          "Jaws",
          "Blues",
          "Masher",
          "Majou",
          "Simulator",
          "Cookie",
          "Corvette",
          "Shougi",
          "Solomon"
         ],
         "type": "scatter3d",
         "x": [
          -14.264422416687012,
          -7.840598106384277,
          -9.25218677520752,
          -23.270362854003906,
          8.092381477355957,
          0.3604111671447754,
          -0.7713168263435364,
          -4.522632122039795,
          -16.489782333374023,
          -4.793609619140625,
          -23.057336807250977,
          -20.937822341918945,
          -9.282054901123047,
          4.096961498260498,
          -8.264403343200684,
          18.063329696655273,
          18.444608688354492,
          -0.9200838208198547,
          -17.11292839050293,
          -0.7955204248428345,
          -9.671483039855957,
          2.641733169555664,
          -13.659491539001465,
          27.083072662353516,
          32.1643180847168,
          12.297749519348145,
          8.365927696228027,
          3.7508318424224854,
          -22.623111724853516,
          22.037179946899414,
          15.150262832641602,
          25.077638626098633,
          -24.10820770263672,
          18.813987731933594,
          21.691585540771484,
          -21.604833602905273,
          -9.951481819152832,
          21.139083862304688,
          -23.13551902770996,
          31.10611915588379,
          8.830496788024902,
          -5.635046482086182,
          1.9844489097595215,
          15.751288414001465,
          7.39163875579834,
          -14.097309112548828,
          -20.241832733154297,
          20.82623291015625,
          -21.49210548400879,
          -1.0434517860412598,
          -12.84773063659668,
          -19.412643432617188,
          -17.745342254638672,
          1.5590165853500366,
          -26.036523818969727,
          26.718225479125977,
          11.08102798461914,
          -10.887553215026855,
          0.5077099204063416,
          24.934314727783203,
          9.418758392333984,
          -10.886652946472168,
          -22.72801971435547,
          -2.9582903385162354,
          24.35438346862793,
          -4.119906902313232,
          -6.935563087463379,
          -26.530080795288086,
          -20.543338775634766,
          -13.14359188079834,
          -24.5115966796875,
          18.514434814453125,
          33.26025390625,
          -4.584092617034912,
          -5.58329439163208,
          0.2733426094055176,
          26.25505828857422,
          -1.4094058275222778,
          3.263566493988037,
          0.20054225623607635,
          21.852108001708984,
          -6.899939060211182,
          -5.018198490142822,
          -8.465311050415039,
          -17.79720115661621,
          -7.332479476928711,
          -20.373764038085938,
          18.170330047607422,
          -9.37098217010498,
          11.569385528564453,
          -19.394685745239258,
          -17.691492080688477,
          -8.637516975402832,
          -4.547147274017334,
          9.946172714233398,
          -21.471162796020508,
          -8.237494468688965,
          -26.02149200439453,
          33.36042022705078,
          -5.860714435577393
         ],
         "y": [
          5.5023064613342285,
          -8.705763816833496,
          -14.14850902557373,
          -5.457391738891602,
          -8.610613822937012,
          20.268672943115234,
          19.961816787719727,
          18.725399017333984,
          -0.754280686378479,
          -2.810394287109375,
          15.67165470123291,
          6.205451011657715,
          19.687856674194336,
          -9.70350170135498,
          20.32630729675293,
          6.731141567230225,
          16.097980499267578,
          8.0884370803833,
          -4.547712326049805,
          4.685307025909424,
          -18.710323333740234,
          5.726508140563965,
          -7.737945079803467,
          -7.344160556793213,
          -3.821331024169922,
          -17.296842575073242,
          9.373429298400879,
          0.3917795419692993,
          -1.0139284133911133,
          -12.053335189819336,
          12.36402416229248,
          -13.2272310256958,
          10.931575775146484,
          -9.374678611755371,
          -1.6420180797576904,
          -14.29393196105957,
          -2.828961133956909,
          3.326112747192383,
          -19.714502334594727,
          -4.775569438934326,
          -4.785830974578857,
          -1.7802175283432007,
          0.32338419556617737,
          -5.419107913970947,
          1.1650772094726562,
          5.877277851104736,
          -15.24967098236084,
          -1.8746004104614258,
          -12.546990394592285,
          7.220099925994873,
          20.978548049926758,
          -9.560037612915039,
          13.228490829467773,
          0.22058811783790588,
          -17.885889053344727,
          -1.5471439361572266,
          16.872726440429688,
          15.215035438537598,
          4.867610454559326,
          12.904189109802246,
          -17.215320587158203,
          -16.496986389160156,
          -12.42193603515625,
          19.220840454101562,
          -5.403280258178711,
          18.89105987548828,
          -11.680222511291504,
          15.3158597946167,
          -10.330403327941895,
          -17.12934112548828,
          10.358011245727539,
          -15.947338104248047,
          -10.282644271850586,
          18.2585391998291,
          3.5650713443756104,
          10.224180221557617,
          -2.116079092025757,
          -12.554671287536621,
          -1.2002763748168945,
          0.6987883448600769,
          22.80849266052246,
          0.7392971515655518,
          -23.458911895751953,
          5.865654468536377,
          20.185691833496094,
          19.254718780517578,
          1.4119555950164795,
          -4.117319583892822,
          -9.06615161895752,
          1.7854281663894653,
          -4.094470500946045,
          1.3417260646820068,
          -0.3663410246372223,
          -9.252764701843262,
          0.898624837398529,
          6.0032830238342285,
          -14.24290657043457,
          -0.01408840250223875,
          5.872988700866699,
          -15.562989234924316
         ],
         "z": [
          12.296516418457031,
          -9.232872009277344,
          -8.099555015563965,
          -5.182680606842041,
          16.37153434753418,
          -12.32657241821289,
          -13.237325668334961,
          -9.225974082946777,
          1.3227145671844482,
          -13.499255180358887,
          -7.648104667663574,
          -3.7552199363708496,
          -14.757185935974121,
          -11.401710510253906,
          -15.795454978942871,
          -3.482668876647949,
          1.6576125621795654,
          14.701505661010742,
          7.692686557769775,
          25.314556121826172,
          12.897237777709961,
          9.425822257995605,
          -16.57009506225586,
          -3.8166074752807617,
          -9.945582389831543,
          2.624542713165283,
          -14.486282348632812,
          11.750584602355957,
          14.782878875732422,
          -12.70779037475586,
          2.635560989379883,
          -1.58197021484375,
          -0.6433975696563721,
          1.6820238828659058,
          -8.450310707092285,
          -10.740617752075195,
          9.54121208190918,
          -5.914274215698242,
          0.606404721736908,
          4.937986373901367,
          -11.339190483093262,
          -16.51862335205078,
          16.80257797241211,
          -10.4244966506958,
          27.677249908447266,
          -1.5136914253234863,
          -6.480299949645996,
          -15.919107437133789,
          -4.191883563995361,
          14.65359878540039,
          12.893376350402832,
          -7.5516037940979,
          10.009987831115723,
          5.706985950469971,
          1.9630873203277588,
          -1.211021900177002,
          -10.957893371582031,
          -14.106685638427734,
          1.8769220113754272,
          1.1139546632766724,
          -8.55634593963623,
          -4.670955181121826,
          8.644367218017578,
          -17.36549186706543,
          1.9305200576782227,
          -13.03536605834961,
          -2.3390064239501953,
          -2.903904676437378,
          -6.6833953857421875,
          0.14572091400623322,
          8.107551574707031,
          3.2516021728515625,
          -8.649462699890137,
          -9.804231643676758,
          -3.6242756843566895,
          12.403308868408203,
          1.7611191272735596,
          -9.464717864990234,
          18.930803298950195,
          -23.684289932250977,
          1.2226639986038208,
          7.87895393371582,
          1.2223429679870605,
          -10.893402099609375,
          4.560518741607666,
          -2.8537144660949707,
          5.888830661773682,
          -5.718267917633057,
          -7.287667274475098,
          -14.592999458312988,
          -16.77358055114746,
          8.034597396850586,
          8.283252716064453,
          16.979795455932617,
          -14.326358795166016,
          7.850173473358154,
          0.2999934256076813,
          10.875575065612793,
          3.8137075901031494,
          8.594483375549316
         ]
        }
       ],
       "layout": {
        "legend": {
         "tracegroupgap": 0
        },
        "margin": {
         "t": 60
        },
        "scene": {
         "domain": {
          "x": [
           0,
           1
          ],
          "y": [
           0,
           1
          ]
         },
         "xaxis": {
          "title": {
           "text": "x"
          }
         },
         "yaxis": {
          "title": {
           "text": "y"
          }
         },
         "zaxis": {
          "title": {
           "text": "z"
          }
         }
        },
        "template": {
         "data": {
          "bar": [
           {
            "error_x": {
             "color": "#2a3f5f"
            },
            "error_y": {
             "color": "#2a3f5f"
            },
            "marker": {
             "line": {
              "color": "#E5ECF6",
              "width": 0.5
             },
             "pattern": {
              "fillmode": "overlay",
              "size": 10,
              "solidity": 0.2
             }
            },
            "type": "bar"
           }
          ],
          "barpolar": [
           {
            "marker": {
             "line": {
              "color": "#E5ECF6",
              "width": 0.5
             },
             "pattern": {
              "fillmode": "overlay",
              "size": 10,
              "solidity": 0.2
             }
            },
            "type": "barpolar"
           }
          ],
          "carpet": [
           {
            "aaxis": {
             "endlinecolor": "#2a3f5f",
             "gridcolor": "white",
             "linecolor": "white",
             "minorgridcolor": "white",
             "startlinecolor": "#2a3f5f"
            },
            "baxis": {
             "endlinecolor": "#2a3f5f",
             "gridcolor": "white",
             "linecolor": "white",
             "minorgridcolor": "white",
             "startlinecolor": "#2a3f5f"
            },
            "type": "carpet"
           }
          ],
          "choropleth": [
           {
            "colorbar": {
             "outlinewidth": 0,
             "ticks": ""
            },
            "type": "choropleth"
           }
          ],
          "contour": [
           {
            "colorbar": {
             "outlinewidth": 0,
             "ticks": ""
            },
            "colorscale": [
             [
              0,
              "#0d0887"
             ],
             [
              0.1111111111111111,
              "#46039f"
             ],
             [
              0.2222222222222222,
              "#7201a8"
             ],
             [
              0.3333333333333333,
              "#9c179e"
             ],
             [
              0.4444444444444444,
              "#bd3786"
             ],
             [
              0.5555555555555556,
              "#d8576b"
             ],
             [
              0.6666666666666666,
              "#ed7953"
             ],
             [
              0.7777777777777778,
              "#fb9f3a"
             ],
             [
              0.8888888888888888,
              "#fdca26"
             ],
             [
              1,
              "#f0f921"
             ]
            ],
            "type": "contour"
           }
          ],
          "contourcarpet": [
           {
            "colorbar": {
             "outlinewidth": 0,
             "ticks": ""
            },
            "type": "contourcarpet"
           }
          ],
          "heatmap": [
           {
            "colorbar": {
             "outlinewidth": 0,
             "ticks": ""
            },
            "colorscale": [
             [
              0,
              "#0d0887"
             ],
             [
              0.1111111111111111,
              "#46039f"
             ],
             [
              0.2222222222222222,
              "#7201a8"
             ],
             [
              0.3333333333333333,
              "#9c179e"
             ],
             [
              0.4444444444444444,
              "#bd3786"
             ],
             [
              0.5555555555555556,
              "#d8576b"
             ],
             [
              0.6666666666666666,
              "#ed7953"
             ],
             [
              0.7777777777777778,
              "#fb9f3a"
             ],
             [
              0.8888888888888888,
              "#fdca26"
             ],
             [
              1,
              "#f0f921"
             ]
            ],
            "type": "heatmap"
           }
          ],
          "heatmapgl": [
           {
            "colorbar": {
             "outlinewidth": 0,
             "ticks": ""
            },
            "colorscale": [
             [
              0,
              "#0d0887"
             ],
             [
              0.1111111111111111,
              "#46039f"
             ],
             [
              0.2222222222222222,
              "#7201a8"
             ],
             [
              0.3333333333333333,
              "#9c179e"
             ],
             [
              0.4444444444444444,
              "#bd3786"
             ],
             [
              0.5555555555555556,
              "#d8576b"
             ],
             [
              0.6666666666666666,
              "#ed7953"
             ],
             [
              0.7777777777777778,
              "#fb9f3a"
             ],
             [
              0.8888888888888888,
              "#fdca26"
             ],
             [
              1,
              "#f0f921"
             ]
            ],
            "type": "heatmapgl"
           }
          ],
          "histogram": [
           {
            "marker": {
             "pattern": {
              "fillmode": "overlay",
              "size": 10,
              "solidity": 0.2
             }
            },
            "type": "histogram"
           }
          ],
          "histogram2d": [
           {
            "colorbar": {
             "outlinewidth": 0,
             "ticks": ""
            },
            "colorscale": [
             [
              0,
              "#0d0887"
             ],
             [
              0.1111111111111111,
              "#46039f"
             ],
             [
              0.2222222222222222,
              "#7201a8"
             ],
             [
              0.3333333333333333,
              "#9c179e"
             ],
             [
              0.4444444444444444,
              "#bd3786"
             ],
             [
              0.5555555555555556,
              "#d8576b"
             ],
             [
              0.6666666666666666,
              "#ed7953"
             ],
             [
              0.7777777777777778,
              "#fb9f3a"
             ],
             [
              0.8888888888888888,
              "#fdca26"
             ],
             [
              1,
              "#f0f921"
             ]
            ],
            "type": "histogram2d"
           }
          ],
          "histogram2dcontour": [
           {
            "colorbar": {
             "outlinewidth": 0,
             "ticks": ""
            },
            "colorscale": [
             [
              0,
              "#0d0887"
             ],
             [
              0.1111111111111111,
              "#46039f"
             ],
             [
              0.2222222222222222,
              "#7201a8"
             ],
             [
              0.3333333333333333,
              "#9c179e"
             ],
             [
              0.4444444444444444,
              "#bd3786"
             ],
             [
              0.5555555555555556,
              "#d8576b"
             ],
             [
              0.6666666666666666,
              "#ed7953"
             ],
             [
              0.7777777777777778,
              "#fb9f3a"
             ],
             [
              0.8888888888888888,
              "#fdca26"
             ],
             [
              1,
              "#f0f921"
             ]
            ],
            "type": "histogram2dcontour"
           }
          ],
          "mesh3d": [
           {
            "colorbar": {
             "outlinewidth": 0,
             "ticks": ""
            },
            "type": "mesh3d"
           }
          ],
          "parcoords": [
           {
            "line": {
             "colorbar": {
              "outlinewidth": 0,
              "ticks": ""
             }
            },
            "type": "parcoords"
           }
          ],
          "pie": [
           {
            "automargin": true,
            "type": "pie"
           }
          ],
          "scatter": [
           {
            "fillpattern": {
             "fillmode": "overlay",
             "size": 10,
             "solidity": 0.2
            },
            "type": "scatter"
           }
          ],
          "scatter3d": [
           {
            "line": {
             "colorbar": {
              "outlinewidth": 0,
              "ticks": ""
             }
            },
            "marker": {
             "colorbar": {
              "outlinewidth": 0,
              "ticks": ""
             }
            },
            "type": "scatter3d"
           }
          ],
          "scattercarpet": [
           {
            "marker": {
             "colorbar": {
              "outlinewidth": 0,
              "ticks": ""
             }
            },
            "type": "scattercarpet"
           }
          ],
          "scattergeo": [
           {
            "marker": {
             "colorbar": {
              "outlinewidth": 0,
              "ticks": ""
             }
            },
            "type": "scattergeo"
           }
          ],
          "scattergl": [
           {
            "marker": {
             "colorbar": {
              "outlinewidth": 0,
              "ticks": ""
             }
            },
            "type": "scattergl"
           }
          ],
          "scattermapbox": [
           {
            "marker": {
             "colorbar": {
              "outlinewidth": 0,
              "ticks": ""
             }
            },
            "type": "scattermapbox"
           }
          ],
          "scatterpolar": [
           {
            "marker": {
             "colorbar": {
              "outlinewidth": 0,
              "ticks": ""
             }
            },
            "type": "scatterpolar"
           }
          ],
          "scatterpolargl": [
           {
            "marker": {
             "colorbar": {
              "outlinewidth": 0,
              "ticks": ""
             }
            },
            "type": "scatterpolargl"
           }
          ],
          "scatterternary": [
           {
            "marker": {
             "colorbar": {
              "outlinewidth": 0,
              "ticks": ""
             }
            },
            "type": "scatterternary"
           }
          ],
          "surface": [
           {
            "colorbar": {
             "outlinewidth": 0,
             "ticks": ""
            },
            "colorscale": [
             [
              0,
              "#0d0887"
             ],
             [
              0.1111111111111111,
              "#46039f"
             ],
             [
              0.2222222222222222,
              "#7201a8"
             ],
             [
              0.3333333333333333,
              "#9c179e"
             ],
             [
              0.4444444444444444,
              "#bd3786"
             ],
             [
              0.5555555555555556,
              "#d8576b"
             ],
             [
              0.6666666666666666,
              "#ed7953"
             ],
             [
              0.7777777777777778,
              "#fb9f3a"
             ],
             [
              0.8888888888888888,
              "#fdca26"
             ],
             [
              1,
              "#f0f921"
             ]
            ],
            "type": "surface"
           }
          ],
          "table": [
           {
            "cells": {
             "fill": {
              "color": "#EBF0F8"
             },
             "line": {
              "color": "white"
             }
            },
            "header": {
             "fill": {
              "color": "#C8D4E3"
             },
             "line": {
              "color": "white"
             }
            },
            "type": "table"
           }
          ]
         },
         "layout": {
          "annotationdefaults": {
           "arrowcolor": "#2a3f5f",
           "arrowhead": 0,
           "arrowwidth": 1
          },
          "autotypenumbers": "strict",
          "coloraxis": {
           "colorbar": {
            "outlinewidth": 0,
            "ticks": ""
           }
          },
          "colorscale": {
           "diverging": [
            [
             0,
             "#8e0152"
            ],
            [
             0.1,
             "#c51b7d"
            ],
            [
             0.2,
             "#de77ae"
            ],
            [
             0.3,
             "#f1b6da"
            ],
            [
             0.4,
             "#fde0ef"
            ],
            [
             0.5,
             "#f7f7f7"
            ],
            [
             0.6,
             "#e6f5d0"
            ],
            [
             0.7,
             "#b8e186"
            ],
            [
             0.8,
             "#7fbc41"
            ],
            [
             0.9,
             "#4d9221"
            ],
            [
             1,
             "#276419"
            ]
           ],
           "sequential": [
            [
             0,
             "#0d0887"
            ],
            [
             0.1111111111111111,
             "#46039f"
            ],
            [
             0.2222222222222222,
             "#7201a8"
            ],
            [
             0.3333333333333333,
             "#9c179e"
            ],
            [
             0.4444444444444444,
             "#bd3786"
            ],
            [
             0.5555555555555556,
             "#d8576b"
            ],
            [
             0.6666666666666666,
             "#ed7953"
            ],
            [
             0.7777777777777778,
             "#fb9f3a"
            ],
            [
             0.8888888888888888,
             "#fdca26"
            ],
            [
             1,
             "#f0f921"
            ]
           ],
           "sequentialminus": [
            [
             0,
             "#0d0887"
            ],
            [
             0.1111111111111111,
             "#46039f"
            ],
            [
             0.2222222222222222,
             "#7201a8"
            ],
            [
             0.3333333333333333,
             "#9c179e"
            ],
            [
             0.4444444444444444,
             "#bd3786"
            ],
            [
             0.5555555555555556,
             "#d8576b"
            ],
            [
             0.6666666666666666,
             "#ed7953"
            ],
            [
             0.7777777777777778,
             "#fb9f3a"
            ],
            [
             0.8888888888888888,
             "#fdca26"
            ],
            [
             1,
             "#f0f921"
            ]
           ]
          },
          "colorway": [
           "#636efa",
           "#EF553B",
           "#00cc96",
           "#ab63fa",
           "#FFA15A",
           "#19d3f3",
           "#FF6692",
           "#B6E880",
           "#FF97FF",
           "#FECB52"
          ],
          "font": {
           "color": "#2a3f5f"
          },
          "geo": {
           "bgcolor": "white",
           "lakecolor": "white",
           "landcolor": "#E5ECF6",
           "showlakes": true,
           "showland": true,
           "subunitcolor": "white"
          },
          "hoverlabel": {
           "align": "left"
          },
          "hovermode": "closest",
          "mapbox": {
           "style": "light"
          },
          "paper_bgcolor": "white",
          "plot_bgcolor": "#E5ECF6",
          "polar": {
           "angularaxis": {
            "gridcolor": "white",
            "linecolor": "white",
            "ticks": ""
           },
           "bgcolor": "#E5ECF6",
           "radialaxis": {
            "gridcolor": "white",
            "linecolor": "white",
            "ticks": ""
           }
          },
          "scene": {
           "xaxis": {
            "backgroundcolor": "#E5ECF6",
            "gridcolor": "white",
            "gridwidth": 2,
            "linecolor": "white",
            "showbackground": true,
            "ticks": "",
            "zerolinecolor": "white"
           },
           "yaxis": {
            "backgroundcolor": "#E5ECF6",
            "gridcolor": "white",
            "gridwidth": 2,
            "linecolor": "white",
            "showbackground": true,
            "ticks": "",
            "zerolinecolor": "white"
           },
           "zaxis": {
            "backgroundcolor": "#E5ECF6",
            "gridcolor": "white",
            "gridwidth": 2,
            "linecolor": "white",
            "showbackground": true,
            "ticks": "",
            "zerolinecolor": "white"
           }
          },
          "shapedefaults": {
           "line": {
            "color": "#2a3f5f"
           }
          },
          "ternary": {
           "aaxis": {
            "gridcolor": "white",
            "linecolor": "white",
            "ticks": ""
           },
           "baxis": {
            "gridcolor": "white",
            "linecolor": "white",
            "ticks": ""
           },
           "bgcolor": "#E5ECF6",
           "caxis": {
            "gridcolor": "white",
            "linecolor": "white",
            "ticks": ""
           }
          },
          "title": {
           "x": 0.05
          },
          "xaxis": {
           "automargin": true,
           "gridcolor": "white",
           "linecolor": "white",
           "ticks": "",
           "title": {
            "standoff": 15
           },
           "zerolinecolor": "white",
           "zerolinewidth": 2
          },
          "yaxis": {
           "automargin": true,
           "gridcolor": "white",
           "linecolor": "white",
           "ticks": "",
           "title": {
            "standoff": 15
           },
           "zerolinecolor": "white",
           "zerolinewidth": 2
          }
         }
        }
       }
      },
      "text/html": [
       "<div>                            <div id=\"4b3dfb01-2829-4e95-a9e6-9f170c8035da\" class=\"plotly-graph-div\" style=\"height:525px; width:100%;\"></div>            <script type=\"text/javascript\">                require([\"plotly\"], function(Plotly) {                    window.PLOTLYENV=window.PLOTLYENV || {};                                    if (document.getElementById(\"4b3dfb01-2829-4e95-a9e6-9f170c8035da\")) {                    Plotly.newPlot(                        \"4b3dfb01-2829-4e95-a9e6-9f170c8035da\",                        [{\"hovertemplate\":\"x=%{x}\\u003cbr\\u003ey=%{y}\\u003cbr\\u003ez=%{z}\\u003cbr\\u003etext=%{text}\\u003cextra\\u003e\\u003c\\u002fextra\\u003e\",\"legendgroup\":\"\",\"marker\":{\"color\":\"#636efa\",\"symbol\":\"circle\"},\"mode\":\"markers+text\",\"name\":\"\",\"scene\":\"scene\",\"showlegend\":false,\"text\":[\"Alien\",\"Elevator\",\"Uncanny\",\"Dream\",\"Caper!\",\"Land:\",\"Fortune:\",\"Eagle:\",\"Rivals\",\"Thieves\",\"Lost\",\"New\",\"Field:\",\"Heracles\",\"Network:\",\"Pikahage\",\"ChikaiJP\",\"Bullwinkle\",\"Rampage\",\"King's\",\"George\",\"Shatterhand\",\"Night\",\"Hyaku\",\"Itchokusen\",\"Watashi\",\"Kun:\",\"Ramen-Man\",\"WCW\",\"Morita\",\"YarouJP\",\"Dengeki\",\"Cars\",\"Sugiyuku\",\"Shissouru\",\"Front\",\"Popeye\",\"Owarai\",\"To\",\"Hiryu\",\"Fuuin\",\"Boulder\",\"Chubby\",\"Aoki\",\"Mansell's\",\"StoryPAL\",\"Scramble\",\"Keiba:\",\"Tori\",\"Shufflepuck\",\"Aerobics\",\"Ski\",\"Bass\",\"Gorby\",\"Meets\",\"Yasashii\",\"Gaiden:\",\"Grand-Prix\",\"Caper\",\"DaishingekiJP\",\"Kimi\",\"Trick\",\"\\u2013\",\"Taboo:\",\"Nishiouendan\",\"Time:\",\"Boy\",\"Races\",\"Break\",\"Just\",\"Law\",\"Bujutsu\",\"Jigoku\",\"Bird:\",\"Snake\",\"Maniac\",\"Deburasu\",\"Blader\",\"Dribble\",\"Shanghai\",\"DoropiJP\",\"Booby\",\"Sawyer\",\"SDF\",\"Scrum\",\"Mappy-Land\",\"Dual\",\"(Toki)\",\"Lightning\",\"Doujou\",\"Green\",\"Jaws\",\"Blues\",\"Masher\",\"Majou\",\"Simulator\",\"Cookie\",\"Corvette\",\"Shougi\",\"Solomon\"],\"x\":[-14.264422416687012,-7.840598106384277,-9.25218677520752,-23.270362854003906,8.092381477355957,0.3604111671447754,-0.7713168263435364,-4.522632122039795,-16.489782333374023,-4.793609619140625,-23.057336807250977,-20.937822341918945,-9.282054901123047,4.096961498260498,-8.264403343200684,18.063329696655273,18.444608688354492,-0.9200838208198547,-17.11292839050293,-0.7955204248428345,-9.671483039855957,2.641733169555664,-13.659491539001465,27.083072662353516,32.1643180847168,12.297749519348145,8.365927696228027,3.7508318424224854,-22.623111724853516,22.037179946899414,15.150262832641602,25.077638626098633,-24.10820770263672,18.813987731933594,21.691585540771484,-21.604833602905273,-9.951481819152832,21.139083862304688,-23.13551902770996,31.10611915588379,8.830496788024902,-5.635046482086182,1.9844489097595215,15.751288414001465,7.39163875579834,-14.097309112548828,-20.241832733154297,20.82623291015625,-21.49210548400879,-1.0434517860412598,-12.84773063659668,-19.412643432617188,-17.745342254638672,1.5590165853500366,-26.036523818969727,26.718225479125977,11.08102798461914,-10.887553215026855,0.5077099204063416,24.934314727783203,9.418758392333984,-10.886652946472168,-22.72801971435547,-2.9582903385162354,24.35438346862793,-4.119906902313232,-6.935563087463379,-26.530080795288086,-20.543338775634766,-13.14359188079834,-24.5115966796875,18.514434814453125,33.26025390625,-4.584092617034912,-5.58329439163208,0.2733426094055176,26.25505828857422,-1.4094058275222778,3.263566493988037,0.20054225623607635,21.852108001708984,-6.899939060211182,-5.018198490142822,-8.465311050415039,-17.79720115661621,-7.332479476928711,-20.373764038085938,18.170330047607422,-9.37098217010498,11.569385528564453,-19.394685745239258,-17.691492080688477,-8.637516975402832,-4.547147274017334,9.946172714233398,-21.471162796020508,-8.237494468688965,-26.02149200439453,33.36042022705078,-5.860714435577393],\"y\":[5.5023064613342285,-8.705763816833496,-14.14850902557373,-5.457391738891602,-8.610613822937012,20.268672943115234,19.961816787719727,18.725399017333984,-0.754280686378479,-2.810394287109375,15.67165470123291,6.205451011657715,19.687856674194336,-9.70350170135498,20.32630729675293,6.731141567230225,16.097980499267578,8.0884370803833,-4.547712326049805,4.685307025909424,-18.710323333740234,5.726508140563965,-7.737945079803467,-7.344160556793213,-3.821331024169922,-17.296842575073242,9.373429298400879,0.3917795419692993,-1.0139284133911133,-12.053335189819336,12.36402416229248,-13.2272310256958,10.931575775146484,-9.374678611755371,-1.6420180797576904,-14.29393196105957,-2.828961133956909,3.326112747192383,-19.714502334594727,-4.775569438934326,-4.785830974578857,-1.7802175283432007,0.32338419556617737,-5.419107913970947,1.1650772094726562,5.877277851104736,-15.24967098236084,-1.8746004104614258,-12.546990394592285,7.220099925994873,20.978548049926758,-9.560037612915039,13.228490829467773,0.22058811783790588,-17.885889053344727,-1.5471439361572266,16.872726440429688,15.215035438537598,4.867610454559326,12.904189109802246,-17.215320587158203,-16.496986389160156,-12.42193603515625,19.220840454101562,-5.403280258178711,18.89105987548828,-11.680222511291504,15.3158597946167,-10.330403327941895,-17.12934112548828,10.358011245727539,-15.947338104248047,-10.282644271850586,18.2585391998291,3.5650713443756104,10.224180221557617,-2.116079092025757,-12.554671287536621,-1.2002763748168945,0.6987883448600769,22.80849266052246,0.7392971515655518,-23.458911895751953,5.865654468536377,20.185691833496094,19.254718780517578,1.4119555950164795,-4.117319583892822,-9.06615161895752,1.7854281663894653,-4.094470500946045,1.3417260646820068,-0.3663410246372223,-9.252764701843262,0.898624837398529,6.0032830238342285,-14.24290657043457,-0.01408840250223875,5.872988700866699,-15.562989234924316],\"z\":[12.296516418457031,-9.232872009277344,-8.099555015563965,-5.182680606842041,16.37153434753418,-12.32657241821289,-13.237325668334961,-9.225974082946777,1.3227145671844482,-13.499255180358887,-7.648104667663574,-3.7552199363708496,-14.757185935974121,-11.401710510253906,-15.795454978942871,-3.482668876647949,1.6576125621795654,14.701505661010742,7.692686557769775,25.314556121826172,12.897237777709961,9.425822257995605,-16.57009506225586,-3.8166074752807617,-9.945582389831543,2.624542713165283,-14.486282348632812,11.750584602355957,14.782878875732422,-12.70779037475586,2.635560989379883,-1.58197021484375,-0.6433975696563721,1.6820238828659058,-8.450310707092285,-10.740617752075195,9.54121208190918,-5.914274215698242,0.606404721736908,4.937986373901367,-11.339190483093262,-16.51862335205078,16.80257797241211,-10.4244966506958,27.677249908447266,-1.5136914253234863,-6.480299949645996,-15.919107437133789,-4.191883563995361,14.65359878540039,12.893376350402832,-7.5516037940979,10.009987831115723,5.706985950469971,1.9630873203277588,-1.211021900177002,-10.957893371582031,-14.106685638427734,1.8769220113754272,1.1139546632766724,-8.55634593963623,-4.670955181121826,8.644367218017578,-17.36549186706543,1.9305200576782227,-13.03536605834961,-2.3390064239501953,-2.903904676437378,-6.6833953857421875,0.14572091400623322,8.107551574707031,3.2516021728515625,-8.649462699890137,-9.804231643676758,-3.6242756843566895,12.403308868408203,1.7611191272735596,-9.464717864990234,18.930803298950195,-23.684289932250977,1.2226639986038208,7.87895393371582,1.2223429679870605,-10.893402099609375,4.560518741607666,-2.8537144660949707,5.888830661773682,-5.718267917633057,-7.287667274475098,-14.592999458312988,-16.77358055114746,8.034597396850586,8.283252716064453,16.979795455932617,-14.326358795166016,7.850173473358154,0.2999934256076813,10.875575065612793,3.8137075901031494,8.594483375549316],\"type\":\"scatter3d\"}],                        {\"template\":{\"data\":{\"histogram2dcontour\":[{\"type\":\"histogram2dcontour\",\"colorbar\":{\"outlinewidth\":0,\"ticks\":\"\"},\"colorscale\":[[0.0,\"#0d0887\"],[0.1111111111111111,\"#46039f\"],[0.2222222222222222,\"#7201a8\"],[0.3333333333333333,\"#9c179e\"],[0.4444444444444444,\"#bd3786\"],[0.5555555555555556,\"#d8576b\"],[0.6666666666666666,\"#ed7953\"],[0.7777777777777778,\"#fb9f3a\"],[0.8888888888888888,\"#fdca26\"],[1.0,\"#f0f921\"]]}],\"choropleth\":[{\"type\":\"choropleth\",\"colorbar\":{\"outlinewidth\":0,\"ticks\":\"\"}}],\"histogram2d\":[{\"type\":\"histogram2d\",\"colorbar\":{\"outlinewidth\":0,\"ticks\":\"\"},\"colorscale\":[[0.0,\"#0d0887\"],[0.1111111111111111,\"#46039f\"],[0.2222222222222222,\"#7201a8\"],[0.3333333333333333,\"#9c179e\"],[0.4444444444444444,\"#bd3786\"],[0.5555555555555556,\"#d8576b\"],[0.6666666666666666,\"#ed7953\"],[0.7777777777777778,\"#fb9f3a\"],[0.8888888888888888,\"#fdca26\"],[1.0,\"#f0f921\"]]}],\"heatmap\":[{\"type\":\"heatmap\",\"colorbar\":{\"outlinewidth\":0,\"ticks\":\"\"},\"colorscale\":[[0.0,\"#0d0887\"],[0.1111111111111111,\"#46039f\"],[0.2222222222222222,\"#7201a8\"],[0.3333333333333333,\"#9c179e\"],[0.4444444444444444,\"#bd3786\"],[0.5555555555555556,\"#d8576b\"],[0.6666666666666666,\"#ed7953\"],[0.7777777777777778,\"#fb9f3a\"],[0.8888888888888888,\"#fdca26\"],[1.0,\"#f0f921\"]]}],\"heatmapgl\":[{\"type\":\"heatmapgl\",\"colorbar\":{\"outlinewidth\":0,\"ticks\":\"\"},\"colorscale\":[[0.0,\"#0d0887\"],[0.1111111111111111,\"#46039f\"],[0.2222222222222222,\"#7201a8\"],[0.3333333333333333,\"#9c179e\"],[0.4444444444444444,\"#bd3786\"],[0.5555555555555556,\"#d8576b\"],[0.6666666666666666,\"#ed7953\"],[0.7777777777777778,\"#fb9f3a\"],[0.8888888888888888,\"#fdca26\"],[1.0,\"#f0f921\"]]}],\"contourcarpet\":[{\"type\":\"contourcarpet\",\"colorbar\":{\"outlinewidth\":0,\"ticks\":\"\"}}],\"contour\":[{\"type\":\"contour\",\"colorbar\":{\"outlinewidth\":0,\"ticks\":\"\"},\"colorscale\":[[0.0,\"#0d0887\"],[0.1111111111111111,\"#46039f\"],[0.2222222222222222,\"#7201a8\"],[0.3333333333333333,\"#9c179e\"],[0.4444444444444444,\"#bd3786\"],[0.5555555555555556,\"#d8576b\"],[0.6666666666666666,\"#ed7953\"],[0.7777777777777778,\"#fb9f3a\"],[0.8888888888888888,\"#fdca26\"],[1.0,\"#f0f921\"]]}],\"surface\":[{\"type\":\"surface\",\"colorbar\":{\"outlinewidth\":0,\"ticks\":\"\"},\"colorscale\":[[0.0,\"#0d0887\"],[0.1111111111111111,\"#46039f\"],[0.2222222222222222,\"#7201a8\"],[0.3333333333333333,\"#9c179e\"],[0.4444444444444444,\"#bd3786\"],[0.5555555555555556,\"#d8576b\"],[0.6666666666666666,\"#ed7953\"],[0.7777777777777778,\"#fb9f3a\"],[0.8888888888888888,\"#fdca26\"],[1.0,\"#f0f921\"]]}],\"mesh3d\":[{\"type\":\"mesh3d\",\"colorbar\":{\"outlinewidth\":0,\"ticks\":\"\"}}],\"scatter\":[{\"fillpattern\":{\"fillmode\":\"overlay\",\"size\":10,\"solidity\":0.2},\"type\":\"scatter\"}],\"parcoords\":[{\"type\":\"parcoords\",\"line\":{\"colorbar\":{\"outlinewidth\":0,\"ticks\":\"\"}}}],\"scatterpolargl\":[{\"type\":\"scatterpolargl\",\"marker\":{\"colorbar\":{\"outlinewidth\":0,\"ticks\":\"\"}}}],\"bar\":[{\"error_x\":{\"color\":\"#2a3f5f\"},\"error_y\":{\"color\":\"#2a3f5f\"},\"marker\":{\"line\":{\"color\":\"#E5ECF6\",\"width\":0.5},\"pattern\":{\"fillmode\":\"overlay\",\"size\":10,\"solidity\":0.2}},\"type\":\"bar\"}],\"scattergeo\":[{\"type\":\"scattergeo\",\"marker\":{\"colorbar\":{\"outlinewidth\":0,\"ticks\":\"\"}}}],\"scatterpolar\":[{\"type\":\"scatterpolar\",\"marker\":{\"colorbar\":{\"outlinewidth\":0,\"ticks\":\"\"}}}],\"histogram\":[{\"marker\":{\"pattern\":{\"fillmode\":\"overlay\",\"size\":10,\"solidity\":0.2}},\"type\":\"histogram\"}],\"scattergl\":[{\"type\":\"scattergl\",\"marker\":{\"colorbar\":{\"outlinewidth\":0,\"ticks\":\"\"}}}],\"scatter3d\":[{\"type\":\"scatter3d\",\"line\":{\"colorbar\":{\"outlinewidth\":0,\"ticks\":\"\"}},\"marker\":{\"colorbar\":{\"outlinewidth\":0,\"ticks\":\"\"}}}],\"scattermapbox\":[{\"type\":\"scattermapbox\",\"marker\":{\"colorbar\":{\"outlinewidth\":0,\"ticks\":\"\"}}}],\"scatterternary\":[{\"type\":\"scatterternary\",\"marker\":{\"colorbar\":{\"outlinewidth\":0,\"ticks\":\"\"}}}],\"scattercarpet\":[{\"type\":\"scattercarpet\",\"marker\":{\"colorbar\":{\"outlinewidth\":0,\"ticks\":\"\"}}}],\"carpet\":[{\"aaxis\":{\"endlinecolor\":\"#2a3f5f\",\"gridcolor\":\"white\",\"linecolor\":\"white\",\"minorgridcolor\":\"white\",\"startlinecolor\":\"#2a3f5f\"},\"baxis\":{\"endlinecolor\":\"#2a3f5f\",\"gridcolor\":\"white\",\"linecolor\":\"white\",\"minorgridcolor\":\"white\",\"startlinecolor\":\"#2a3f5f\"},\"type\":\"carpet\"}],\"table\":[{\"cells\":{\"fill\":{\"color\":\"#EBF0F8\"},\"line\":{\"color\":\"white\"}},\"header\":{\"fill\":{\"color\":\"#C8D4E3\"},\"line\":{\"color\":\"white\"}},\"type\":\"table\"}],\"barpolar\":[{\"marker\":{\"line\":{\"color\":\"#E5ECF6\",\"width\":0.5},\"pattern\":{\"fillmode\":\"overlay\",\"size\":10,\"solidity\":0.2}},\"type\":\"barpolar\"}],\"pie\":[{\"automargin\":true,\"type\":\"pie\"}]},\"layout\":{\"autotypenumbers\":\"strict\",\"colorway\":[\"#636efa\",\"#EF553B\",\"#00cc96\",\"#ab63fa\",\"#FFA15A\",\"#19d3f3\",\"#FF6692\",\"#B6E880\",\"#FF97FF\",\"#FECB52\"],\"font\":{\"color\":\"#2a3f5f\"},\"hovermode\":\"closest\",\"hoverlabel\":{\"align\":\"left\"},\"paper_bgcolor\":\"white\",\"plot_bgcolor\":\"#E5ECF6\",\"polar\":{\"bgcolor\":\"#E5ECF6\",\"angularaxis\":{\"gridcolor\":\"white\",\"linecolor\":\"white\",\"ticks\":\"\"},\"radialaxis\":{\"gridcolor\":\"white\",\"linecolor\":\"white\",\"ticks\":\"\"}},\"ternary\":{\"bgcolor\":\"#E5ECF6\",\"aaxis\":{\"gridcolor\":\"white\",\"linecolor\":\"white\",\"ticks\":\"\"},\"baxis\":{\"gridcolor\":\"white\",\"linecolor\":\"white\",\"ticks\":\"\"},\"caxis\":{\"gridcolor\":\"white\",\"linecolor\":\"white\",\"ticks\":\"\"}},\"coloraxis\":{\"colorbar\":{\"outlinewidth\":0,\"ticks\":\"\"}},\"colorscale\":{\"sequential\":[[0.0,\"#0d0887\"],[0.1111111111111111,\"#46039f\"],[0.2222222222222222,\"#7201a8\"],[0.3333333333333333,\"#9c179e\"],[0.4444444444444444,\"#bd3786\"],[0.5555555555555556,\"#d8576b\"],[0.6666666666666666,\"#ed7953\"],[0.7777777777777778,\"#fb9f3a\"],[0.8888888888888888,\"#fdca26\"],[1.0,\"#f0f921\"]],\"sequentialminus\":[[0.0,\"#0d0887\"],[0.1111111111111111,\"#46039f\"],[0.2222222222222222,\"#7201a8\"],[0.3333333333333333,\"#9c179e\"],[0.4444444444444444,\"#bd3786\"],[0.5555555555555556,\"#d8576b\"],[0.6666666666666666,\"#ed7953\"],[0.7777777777777778,\"#fb9f3a\"],[0.8888888888888888,\"#fdca26\"],[1.0,\"#f0f921\"]],\"diverging\":[[0,\"#8e0152\"],[0.1,\"#c51b7d\"],[0.2,\"#de77ae\"],[0.3,\"#f1b6da\"],[0.4,\"#fde0ef\"],[0.5,\"#f7f7f7\"],[0.6,\"#e6f5d0\"],[0.7,\"#b8e186\"],[0.8,\"#7fbc41\"],[0.9,\"#4d9221\"],[1,\"#276419\"]]},\"xaxis\":{\"gridcolor\":\"white\",\"linecolor\":\"white\",\"ticks\":\"\",\"title\":{\"standoff\":15},\"zerolinecolor\":\"white\",\"automargin\":true,\"zerolinewidth\":2},\"yaxis\":{\"gridcolor\":\"white\",\"linecolor\":\"white\",\"ticks\":\"\",\"title\":{\"standoff\":15},\"zerolinecolor\":\"white\",\"automargin\":true,\"zerolinewidth\":2},\"scene\":{\"xaxis\":{\"backgroundcolor\":\"#E5ECF6\",\"gridcolor\":\"white\",\"linecolor\":\"white\",\"showbackground\":true,\"ticks\":\"\",\"zerolinecolor\":\"white\",\"gridwidth\":2},\"yaxis\":{\"backgroundcolor\":\"#E5ECF6\",\"gridcolor\":\"white\",\"linecolor\":\"white\",\"showbackground\":true,\"ticks\":\"\",\"zerolinecolor\":\"white\",\"gridwidth\":2},\"zaxis\":{\"backgroundcolor\":\"#E5ECF6\",\"gridcolor\":\"white\",\"linecolor\":\"white\",\"showbackground\":true,\"ticks\":\"\",\"zerolinecolor\":\"white\",\"gridwidth\":2}},\"shapedefaults\":{\"line\":{\"color\":\"#2a3f5f\"}},\"annotationdefaults\":{\"arrowcolor\":\"#2a3f5f\",\"arrowhead\":0,\"arrowwidth\":1},\"geo\":{\"bgcolor\":\"white\",\"landcolor\":\"#E5ECF6\",\"subunitcolor\":\"white\",\"showland\":true,\"showlakes\":true,\"lakecolor\":\"white\"},\"title\":{\"x\":0.05},\"mapbox\":{\"style\":\"light\"}}},\"scene\":{\"domain\":{\"x\":[0.0,1.0],\"y\":[0.0,1.0]},\"xaxis\":{\"title\":{\"text\":\"x\"}},\"yaxis\":{\"title\":{\"text\":\"y\"}},\"zaxis\":{\"title\":{\"text\":\"z\"}}},\"legend\":{\"tracegroupgap\":0},\"margin\":{\"t\":60}},                        {\"responsive\": true}                    ).then(function(){\n",
       "                            \n",
       "var gd = document.getElementById('4b3dfb01-2829-4e95-a9e6-9f170c8035da');\n",
       "var x = new MutationObserver(function (mutations, observer) {{\n",
       "        var display = window.getComputedStyle(gd).display;\n",
       "        if (!display || display === 'none') {{\n",
       "            console.log([gd, 'removed!']);\n",
       "            Plotly.purge(gd);\n",
       "            observer.disconnect();\n",
       "        }}\n",
       "}});\n",
       "\n",
       "// Listen for the removal of the full notebook cells\n",
       "var notebookContainer = gd.closest('#notebook-container');\n",
       "if (notebookContainer) {{\n",
       "    x.observe(notebookContainer, {childList: true});\n",
       "}}\n",
       "\n",
       "// Listen for the clearing of the current output cell\n",
       "var outputEl = gd.closest('.output');\n",
       "if (outputEl) {{\n",
       "    x.observe(outputEl, {childList: true});\n",
       "}}\n",
       "\n",
       "                        })                };                });            </script>        </div>"
      ]
     },
     "metadata": {},
     "output_type": "display_data"
    }
   ],
   "source": [
    "fig = px.scatter_3d(x=sampled_rows[:, 0], y=sampled_rows[:, 1], \n",
    "                    z=sampled_rows[:, 2], text=sampled_words)\n",
    "fig.show()"
   ]
  },
  {
   "cell_type": "code",
   "execution_count": 24,
   "metadata": {},
   "outputs": [],
   "source": [
    "# import plotly.graph_objects as go\n",
    "\n",
    "# # Assuming word_embeddings_3d is a numpy array containing your word embeddings\n",
    "# # and words is a list of corresponding words\n",
    "\n",
    "# # Create 3D scatter plot\n",
    "# fig = go.Figure(data=[go.Scatter3d(\n",
    "#     x=word_embeddings_3d[:, 0],\n",
    "#     y=word_embeddings_3d[:, 1],\n",
    "#     z=word_embeddings_3d[:, 2],\n",
    "#     mode='markers',\n",
    "#     marker=dict(\n",
    "#         size=8,\n",
    "#         color='rgb(0,0,255)',  # Change color if needed\n",
    "#     ),\n",
    "#     text=words,  # Assign words as text\n",
    "# )])\n",
    "\n",
    "# # Add annotations\n",
    "# annotations = []\n",
    "# for i, word in enumerate(words):\n",
    "#     annotation = dict(\n",
    "#         x=word_embeddings_3d[i, 0],\n",
    "#         y=word_embeddings_3d[i, 1],\n",
    "#         z=word_embeddings_3d[i, 2],\n",
    "#         text=word,\n",
    "#         showarrow=False,\n",
    "#         font=dict(\n",
    "#             color='black',  # Adjust font color if needed\n",
    "#             size=12,\n",
    "#         ),\n",
    "#     )\n",
    "#     annotations.append(annotation)\n",
    "\n",
    "# fig.update_layout(\n",
    "#     scene=dict(\n",
    "#         annotations=annotations,\n",
    "#     ),\n",
    "# )\n",
    "\n",
    "# fig.show()\n"
   ]
  },
  {
   "cell_type": "code",
   "execution_count": null,
   "metadata": {},
   "outputs": [],
   "source": []
  }
 ],
 "metadata": {
  "kernelspec": {
   "display_name": "nes_salad",
   "language": "python",
   "name": "nes_salad"
  },
  "language_info": {
   "codemirror_mode": {
    "name": "ipython",
    "version": 3
   },
   "file_extension": ".py",
   "mimetype": "text/x-python",
   "name": "python",
   "nbconvert_exporter": "python",
   "pygments_lexer": "ipython3",
   "version": "3.9.13"
  }
 },
 "nbformat": 4,
 "nbformat_minor": 2
}
